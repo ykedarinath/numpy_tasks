{
  "cells": [
    {
      "cell_type": "markdown",
      "metadata": {
        "id": "view-in-github",
        "colab_type": "text"
      },
      "source": [
        "<a href=\"https://colab.research.google.com/github/ykedarinath/numpy_tasks/blob/main/Numpy_tasks.ipynb\" target=\"_parent\"><img src=\"https://colab.research.google.com/assets/colab-badge.svg\" alt=\"Open In Colab\"/></a>"
      ]
    },
    {
      "cell_type": "markdown",
      "metadata": {
        "id": "12b8oB4RM5F1"
      },
      "source": [
        "# Numpy\n",
        "\n"
      ]
    },
    {
      "cell_type": "markdown",
      "metadata": {
        "id": "t7eMWvttM5GE"
      },
      "source": [
        "#### 1. Import the numpy package under the name `np` (★☆☆) \n",
        "(**hint**: import … as …)"
      ]
    },
    {
      "cell_type": "code",
      "execution_count": 2,
      "metadata": {
        "collapsed": true,
        "id": "1UBIjH8WM5GH"
      },
      "outputs": [],
      "source": [
        "import numpy as np"
      ]
    },
    {
      "cell_type": "markdown",
      "metadata": {
        "id": "jTXERizOM5GJ"
      },
      "source": [
        "#### 2. Print the numpy version and the configuration (★☆☆) \n",
        "(**hint**: np.\\_\\_version\\_\\_, np.show\\_config)"
      ]
    },
    {
      "cell_type": "code",
      "execution_count": null,
      "metadata": {
        "colab": {
          "base_uri": "https://localhost:8080/"
        },
        "id": "IB_mC6HLM5GK",
        "outputId": "218e4dcb-ac06-485b-8291-d19bd5154729"
      },
      "outputs": [
        {
          "output_type": "stream",
          "name": "stdout",
          "text": [
            "blas_mkl_info:\n",
            "  NOT AVAILABLE\n",
            "blis_info:\n",
            "  NOT AVAILABLE\n",
            "openblas_info:\n",
            "    libraries = ['openblas', 'openblas']\n",
            "    library_dirs = ['/usr/local/lib']\n",
            "    language = c\n",
            "    define_macros = [('HAVE_CBLAS', None)]\n",
            "    runtime_library_dirs = ['/usr/local/lib']\n",
            "blas_opt_info:\n",
            "    libraries = ['openblas', 'openblas']\n",
            "    library_dirs = ['/usr/local/lib']\n",
            "    language = c\n",
            "    define_macros = [('HAVE_CBLAS', None)]\n",
            "    runtime_library_dirs = ['/usr/local/lib']\n",
            "lapack_mkl_info:\n",
            "  NOT AVAILABLE\n",
            "openblas_lapack_info:\n",
            "    libraries = ['openblas', 'openblas']\n",
            "    library_dirs = ['/usr/local/lib']\n",
            "    language = c\n",
            "    define_macros = [('HAVE_CBLAS', None)]\n",
            "    runtime_library_dirs = ['/usr/local/lib']\n",
            "lapack_opt_info:\n",
            "    libraries = ['openblas', 'openblas']\n",
            "    library_dirs = ['/usr/local/lib']\n",
            "    language = c\n",
            "    define_macros = [('HAVE_CBLAS', None)]\n",
            "    runtime_library_dirs = ['/usr/local/lib']\n",
            "Supported SIMD extensions in this NumPy install:\n",
            "    baseline = SSE,SSE2,SSE3\n",
            "    found = SSSE3,SSE41,POPCNT,SSE42,AVX,F16C,FMA3,AVX2\n",
            "    not found = AVX512F,AVX512CD,AVX512_KNL,AVX512_KNM,AVX512_SKX,AVX512_CLX,AVX512_CNL,AVX512_ICL\n",
            "None\n",
            "1.21.6\n"
          ]
        }
      ],
      "source": [
        "print(np.show_config())\n",
        "print(np.__version__)"
      ]
    },
    {
      "cell_type": "markdown",
      "metadata": {
        "id": "NF8GCfTuM5GL"
      },
      "source": [
        "#### 3. Create a null vector of size 10 (★☆☆) \n",
        "(**hint**: np.zeros)"
      ]
    },
    {
      "cell_type": "code",
      "execution_count": null,
      "metadata": {
        "id": "bArdll8zM5GN",
        "colab": {
          "base_uri": "https://localhost:8080/"
        },
        "outputId": "1e79738c-d2b9-4e6c-f6fc-149098a7f32d"
      },
      "outputs": [
        {
          "output_type": "execute_result",
          "data": {
            "text/plain": [
              "array([0., 0., 0., 0., 0., 0., 0., 0., 0., 0.])"
            ]
          },
          "metadata": {},
          "execution_count": 7
        }
      ],
      "source": [
        "np.zeros(10)"
      ]
    },
    {
      "cell_type": "markdown",
      "metadata": {
        "id": "UDaFT8EkM5GO"
      },
      "source": [
        "#### 4.  How to find the memory size of any array (★☆☆) \n",
        "(**hint**: size, itemsize)"
      ]
    },
    {
      "cell_type": "code",
      "execution_count": null,
      "metadata": {
        "id": "-GbkE1fvM5GQ",
        "colab": {
          "base_uri": "https://localhost:8080/"
        },
        "outputId": "463ad27b-0c40-41fb-a149-ad5e54c52e45"
      },
      "outputs": [
        {
          "output_type": "stream",
          "name": "stdout",
          "text": [
            "8 8\n",
            "[[75 76 67 57]\n",
            " [75 76 77 57]]\n"
          ]
        }
      ],
      "source": [
        "x = np.array([[75,76,67,57],[75,76,77,57]])\n",
        "print(x.size,x.itemsize)\n",
        "print(x)"
      ]
    },
    {
      "cell_type": "markdown",
      "metadata": {
        "id": "FqOOywnvM5GR"
      },
      "source": [
        "#### 5.  How to get the documentation of the numpy add function from the command line? (★☆☆) \n",
        "(**hint**: np.info)"
      ]
    },
    {
      "cell_type": "code",
      "execution_count": null,
      "metadata": {
        "collapsed": true,
        "id": "TAtS-yEsM5GS",
        "colab": {
          "base_uri": "https://localhost:8080/"
        },
        "outputId": "052a16d1-653e-4547-faa1-bd1c4371a5f2"
      },
      "outputs": [
        {
          "output_type": "stream",
          "name": "stdout",
          "text": [
            "add(x1, x2, /, out=None, *, where=True, casting='same_kind', order='K', dtype=None, subok=True[, signature, extobj])\n",
            "\n",
            "Add arguments element-wise.\n",
            "\n",
            "Parameters\n",
            "----------\n",
            "x1, x2 : array_like\n",
            "    The arrays to be added.\n",
            "    If ``x1.shape != x2.shape``, they must be broadcastable to a common\n",
            "    shape (which becomes the shape of the output).\n",
            "out : ndarray, None, or tuple of ndarray and None, optional\n",
            "    A location into which the result is stored. If provided, it must have\n",
            "    a shape that the inputs broadcast to. If not provided or None,\n",
            "    a freshly-allocated array is returned. A tuple (possible only as a\n",
            "    keyword argument) must have length equal to the number of outputs.\n",
            "where : array_like, optional\n",
            "    This condition is broadcast over the input. At locations where the\n",
            "    condition is True, the `out` array will be set to the ufunc result.\n",
            "    Elsewhere, the `out` array will retain its original value.\n",
            "    Note that if an uninitialized `out` array is created via the default\n",
            "    ``out=None``, locations within it where the condition is False will\n",
            "    remain uninitialized.\n",
            "**kwargs\n",
            "    For other keyword-only arguments, see the\n",
            "    :ref:`ufunc docs <ufuncs.kwargs>`.\n",
            "\n",
            "Returns\n",
            "-------\n",
            "add : ndarray or scalar\n",
            "    The sum of `x1` and `x2`, element-wise.\n",
            "    This is a scalar if both `x1` and `x2` are scalars.\n",
            "\n",
            "Notes\n",
            "-----\n",
            "Equivalent to `x1` + `x2` in terms of array broadcasting.\n",
            "\n",
            "Examples\n",
            "--------\n",
            ">>> np.add(1.0, 4.0)\n",
            "5.0\n",
            ">>> x1 = np.arange(9.0).reshape((3, 3))\n",
            ">>> x2 = np.arange(3.0)\n",
            ">>> np.add(x1, x2)\n",
            "array([[  0.,   2.,   4.],\n",
            "       [  3.,   5.,   7.],\n",
            "       [  6.,   8.,  10.]])\n",
            "\n",
            "The ``+`` operator can be used as a shorthand for ``np.add`` on ndarrays.\n",
            "\n",
            ">>> x1 = np.arange(9.0).reshape((3, 3))\n",
            ">>> x2 = np.arange(3.0)\n",
            ">>> x1 + x2\n",
            "array([[ 0.,  2.,  4.],\n",
            "       [ 3.,  5.,  7.],\n",
            "       [ 6.,  8., 10.]])\n",
            "None\n"
          ]
        }
      ],
      "source": [
        "print(np.info(np.add))"
      ]
    },
    {
      "cell_type": "markdown",
      "metadata": {
        "id": "41Gog4MkM5GS"
      },
      "source": [
        "#### 6.  Create a null vector of size 10 but the fifth value which is 1 (★☆☆) \n",
        "(**hint**: array\\[4\\])"
      ]
    },
    {
      "cell_type": "code",
      "execution_count": null,
      "metadata": {
        "id": "tZdoStKiM5GT",
        "colab": {
          "base_uri": "https://localhost:8080/"
        },
        "outputId": "d0d3b687-f567-475f-a519-3ce3d4985d81"
      },
      "outputs": [
        {
          "output_type": "stream",
          "name": "stdout",
          "text": [
            "[0. 0. 0. 0. 1. 0. 0. 0. 0. 0.]\n"
          ]
        }
      ],
      "source": [
        "a= np.zeros(10)\n",
        "a[4] = 1\n",
        "print(a)"
      ]
    },
    {
      "cell_type": "markdown",
      "metadata": {
        "id": "rhpslMvGM5GU"
      },
      "source": [
        "#### 7.  Create a vector with values ranging from 10 to 49 (★☆☆) \n",
        "(**hint**: np.arange)"
      ]
    },
    {
      "cell_type": "code",
      "execution_count": null,
      "metadata": {
        "id": "lqe7zPANM5GU",
        "colab": {
          "base_uri": "https://localhost:8080/"
        },
        "outputId": "f1e21631-d3c7-4ece-a111-7fb441e0dcea"
      },
      "outputs": [
        {
          "output_type": "stream",
          "name": "stdout",
          "text": [
            "[10 11 12 13 14 15 16 17 18 19 20 21 22 23 24 25 26 27 28 29 30 31 32 33\n",
            " 34 35 36 37 38 39 40 41 42 43 44 45 46 47 48 49]\n"
          ]
        }
      ],
      "source": [
        "a = np.arange(10,50)\n",
        "print(a)"
      ]
    },
    {
      "cell_type": "markdown",
      "metadata": {
        "id": "US5cMgz1M5GV"
      },
      "source": [
        "#### 8.  Reverse a vector (first element becomes last) (★☆☆) \n",
        "(**hint**: array\\[::-1\\])"
      ]
    },
    {
      "cell_type": "code",
      "execution_count": null,
      "metadata": {
        "id": "_PUpJHDFM5GW",
        "colab": {
          "base_uri": "https://localhost:8080/"
        },
        "outputId": "8250f76c-a258-42cc-b11c-791cd6efd55e"
      },
      "outputs": [
        {
          "output_type": "stream",
          "name": "stdout",
          "text": [
            "[2 1]\n"
          ]
        }
      ],
      "source": [
        "a = np.array([1,2])\n",
        "print(a[::-1])"
      ]
    },
    {
      "cell_type": "markdown",
      "metadata": {
        "id": "UZYRj7fVM5GW"
      },
      "source": [
        "#### 9.  Create a 3x3 matrix with values ranging from 0 to 8 (★☆☆) \n",
        "(**hint**: reshape)"
      ]
    },
    {
      "cell_type": "code",
      "execution_count": null,
      "metadata": {
        "id": "dCrZVk2QM5GW",
        "colab": {
          "base_uri": "https://localhost:8080/"
        },
        "outputId": "64581ec9-f913-48b2-9e4a-62655a26854e"
      },
      "outputs": [
        {
          "output_type": "stream",
          "name": "stdout",
          "text": [
            "[[0 1 2]\n",
            " [3 4 5]\n",
            " [6 7 8]]\n"
          ]
        }
      ],
      "source": [
        "a = np.arange(0,9).reshape(3,3)\n",
        "print(a)\n"
      ]
    },
    {
      "cell_type": "markdown",
      "metadata": {
        "id": "JPs5AClYM5GX"
      },
      "source": [
        "#### 10. Find indices of non-zero elements from \\[1,2,0,0,4,0\\] (★☆☆) \n",
        "(**hint**: np.nonzero)"
      ]
    },
    {
      "cell_type": "code",
      "execution_count": null,
      "metadata": {
        "id": "BsO_BGKSM5GX"
      },
      "outputs": [],
      "source": [
        "a = np.array([1,2,0,0,4,0])\n",
        "print(np.nonzero(a))"
      ]
    },
    {
      "cell_type": "markdown",
      "metadata": {
        "id": "UpoY8fXjM5GY"
      },
      "source": [
        "#### 11. Create a 3x3 identity matrix (★☆☆) \n",
        "(**hint**: np.eye)"
      ]
    },
    {
      "cell_type": "code",
      "execution_count": null,
      "metadata": {
        "id": "8lUGu8ZgM5GY",
        "colab": {
          "base_uri": "https://localhost:8080/"
        },
        "outputId": "39df2321-ccc6-40c4-95ce-da0530212feb"
      },
      "outputs": [
        {
          "output_type": "stream",
          "name": "stdout",
          "text": [
            "[[1. 0. 0.]\n",
            " [0. 1. 0.]\n",
            " [0. 0. 1.]]\n"
          ]
        }
      ],
      "source": [
        "import numpy as np\n",
        "a = np.eye(3)\n",
        "print(a)"
      ]
    },
    {
      "cell_type": "markdown",
      "metadata": {
        "id": "ddW90BVAM5GZ"
      },
      "source": [
        "#### 12. Create a 3x3x3 array with random values (★☆☆) \n",
        "(**hint**: np.random.random)"
      ]
    },
    {
      "cell_type": "code",
      "execution_count": null,
      "metadata": {
        "id": "uXF2xYf9M5GZ",
        "colab": {
          "base_uri": "https://localhost:8080/"
        },
        "outputId": "b374f2d0-7a1d-47b2-9759-0049b515d08f"
      },
      "outputs": [
        {
          "output_type": "execute_result",
          "data": {
            "text/plain": [
              "array([[[0.6024167 , 0.92304459, 0.27351735],\n",
              "        [0.96949049, 0.40356448, 0.95434278],\n",
              "        [0.05280073, 0.286555  , 0.50215958]],\n",
              "\n",
              "       [[0.73437417, 0.1586533 , 0.36407123],\n",
              "        [0.81656467, 0.78945833, 0.56095801],\n",
              "        [0.05550549, 0.88859137, 0.93823426]],\n",
              "\n",
              "       [[0.14335692, 0.98138326, 0.1208683 ],\n",
              "        [0.35482848, 0.16403415, 0.6771969 ],\n",
              "        [0.86424504, 0.41603255, 0.3095098 ]]])"
            ]
          },
          "metadata": {},
          "execution_count": 3
        }
      ],
      "source": [
        "np.random.random((3,3,3))"
      ]
    },
    {
      "cell_type": "markdown",
      "metadata": {
        "id": "DuO2ayGcM5GZ"
      },
      "source": [
        "#### 13. Create a 10x10 array with random values and find the minimum and maximum values (★☆☆) \n",
        "(**hint**: min, max)"
      ]
    },
    {
      "cell_type": "code",
      "execution_count": null,
      "metadata": {
        "id": "29dWNNoGM5Ga",
        "colab": {
          "base_uri": "https://localhost:8080/"
        },
        "outputId": "91ddb440-6899-434f-b8fc-20fd2625bc70"
      },
      "outputs": [
        {
          "output_type": "stream",
          "name": "stdout",
          "text": [
            "[[ 0  1  2  3  4  5  6  7  8  9]\n",
            " [10 11 12 13 14 15 16 17 18 19]\n",
            " [20 21 22 23 24 25 26 27 28 29]\n",
            " [30 31 32 33 34 35 36 37 38 39]\n",
            " [40 41 42 43 44 45 46 47 48 49]\n",
            " [50 51 52 53 54 55 56 57 58 59]\n",
            " [60 61 62 63 64 65 66 67 68 69]\n",
            " [70 71 72 73 74 75 76 77 78 79]\n",
            " [80 81 82 83 84 85 86 87 88 89]\n",
            " [90 91 92 93 94 95 96 97 98 99]]\n",
            "max =  99\n",
            "min =  0\n"
          ]
        }
      ],
      "source": [
        "a = np.arange(0,100).reshape(10,10)\n",
        "print(a)\n",
        "print(\"max = \",np.max(a))\n",
        "print(\"min = \",np.min(a))"
      ]
    },
    {
      "cell_type": "markdown",
      "metadata": {
        "id": "9Oxyan2WM5Ga"
      },
      "source": [
        "#### 14. Create a random vector of size 30 and find the mean value (★☆☆) \n",
        "(**hint**: mean)"
      ]
    },
    {
      "cell_type": "code",
      "execution_count": null,
      "metadata": {
        "id": "MqAlHSqEM5Ga",
        "colab": {
          "base_uri": "https://localhost:8080/"
        },
        "outputId": "7315f266-155c-4cfb-a427-a82df70c46eb"
      },
      "outputs": [
        {
          "output_type": "stream",
          "name": "stdout",
          "text": [
            " mean  =  14.5\n"
          ]
        }
      ],
      "source": [
        "a = np.arange(30)\n",
        "print(\" mean  = \",np.mean(a))"
      ]
    },
    {
      "cell_type": "markdown",
      "metadata": {
        "id": "NjLOZ2FFM5Ga"
      },
      "source": [
        "#### 15. Create a 2d array with 1 on the border and 0 inside (★☆☆) \n",
        "(**hint**: array\\[1:-1, 1:-1\\])"
      ]
    },
    {
      "cell_type": "code",
      "execution_count": null,
      "metadata": {
        "id": "57K3QHlkM5Gb",
        "colab": {
          "base_uri": "https://localhost:8080/"
        },
        "outputId": "bab6bb45-da7e-4901-8f9e-5e9d448de692"
      },
      "outputs": [
        {
          "output_type": "stream",
          "name": "stdout",
          "text": [
            "[[1. 1. 1. 1. 1. 1. 1. 1.]\n",
            " [1. 0. 0. 0. 0. 0. 0. 1.]\n",
            " [1. 0. 0. 0. 0. 0. 0. 1.]\n",
            " [1. 0. 0. 0. 0. 0. 0. 1.]\n",
            " [1. 0. 0. 0. 0. 0. 0. 1.]\n",
            " [1. 0. 0. 0. 0. 0. 0. 1.]\n",
            " [1. 0. 0. 0. 0. 0. 0. 1.]\n",
            " [1. 1. 1. 1. 1. 1. 1. 1.]]\n"
          ]
        }
      ],
      "source": [
        "a = np.ones((8,8))\n",
        "a[1:-1,1:-1] = 0\n",
        "print(a)"
      ]
    },
    {
      "cell_type": "markdown",
      "metadata": {
        "id": "sIVfEP6EM5Gb"
      },
      "source": [
        "#### 16. How to add a border (filled with 0's) around an existing array? (★☆☆) \n",
        "(**hint**: np.pad)"
      ]
    },
    {
      "cell_type": "code",
      "execution_count": null,
      "metadata": {
        "id": "svQXurC6M5Gb",
        "colab": {
          "base_uri": "https://localhost:8080/"
        },
        "outputId": "bfba653e-1931-40c8-eb93-a0c5b3019b90"
      },
      "outputs": [
        {
          "output_type": "stream",
          "name": "stdout",
          "text": [
            "[[ 0  0  0  0  0  0  0  0  0  0]\n",
            " [ 0  1  2  3  4  5  6  7  8  0]\n",
            " [ 0  9 10 11 12 13 14 15 16  0]\n",
            " [ 0 17 18 19 20 21 22 23 24  0]\n",
            " [ 0 25 26 27 28 29 30 31 32  0]\n",
            " [ 0 33 34 35 36 37 38 39 40  0]\n",
            " [ 0 41 42 43 44 45 46 47 48  0]\n",
            " [ 0 49 50 51 52 53 54 55 56  0]\n",
            " [ 0 57 58 59 60 61 62 63 64  0]\n",
            " [ 0  0  0  0  0  0  0  0  0  0]]\n"
          ]
        }
      ],
      "source": [
        "a = np.arange(1,65).reshape(8,8)\n",
        "b = np.pad(a, pad_width=1)\n",
        "print(b)"
      ]
    },
    {
      "cell_type": "markdown",
      "metadata": {
        "id": "Bpr-NHnpM5Gb"
      },
      "source": [
        "#### 17. What is the result of the following expression? (★☆☆) \n",
        "(**hint**: NaN = not a number, inf = infinity)"
      ]
    },
    {
      "cell_type": "markdown",
      "metadata": {
        "id": "6_veSCSmM5Gc"
      },
      "source": [
        "```python\n",
        "0 * np.nan\n",
        "np.nan == np.nan\n",
        "np.inf > np.nan\n",
        "np.nan - np.nan\n",
        "0.3 == 3 * 0.1\n",
        "```"
      ]
    },
    {
      "cell_type": "code",
      "execution_count": null,
      "metadata": {
        "id": "W3Ost-lWM5Gc"
      },
      "outputs": [],
      "source": [
        "nan\n",
        "False\n",
        "False\n",
        "nan\n",
        "False"
      ]
    },
    {
      "cell_type": "markdown",
      "metadata": {
        "id": "kTak_c_RM5Gd"
      },
      "source": [
        "#### 18. Create a 5x5 matrix with values 1,2,3,4 just below the diagonal (★☆☆) \n",
        "(**hint**: np.diag)"
      ]
    },
    {
      "cell_type": "code",
      "execution_count": null,
      "metadata": {
        "id": "DpGm_YcYM5Gd",
        "colab": {
          "base_uri": "https://localhost:8080/"
        },
        "outputId": "0852603d-6eb4-4d1e-83bb-b493b1313c20"
      },
      "outputs": [
        {
          "output_type": "stream",
          "name": "stdout",
          "text": [
            "[[0 0 0 0 0]\n",
            " [1 0 0 0 0]\n",
            " [0 2 0 0 0]\n",
            " [0 0 3 0 0]\n",
            " [0 0 0 4 0]]\n"
          ]
        }
      ],
      "source": [
        "a = np.arange(1,5)\n",
        "b = np.diag(a,k=-1)\n",
        "print(b)"
      ]
    },
    {
      "cell_type": "markdown",
      "metadata": {
        "id": "OJzweyfcM5Gd"
      },
      "source": [
        "#### 19. Create a 8x8 matrix and fill it with a checkerboard pattern (★☆☆) \n",
        "(**hint**: array\\[::2\\])"
      ]
    },
    {
      "cell_type": "code",
      "execution_count": null,
      "metadata": {
        "id": "a2njJh8dM5Ge",
        "colab": {
          "base_uri": "https://localhost:8080/"
        },
        "outputId": "2a9d4e8b-9aa7-4524-b013-2bdf3e4a8590"
      },
      "outputs": [
        {
          "output_type": "stream",
          "name": "stdout",
          "text": [
            "[[1. 0. 1. 0. 1. 0. 1. 0.]\n",
            " [0. 1. 0. 1. 0. 1. 0. 1.]\n",
            " [1. 0. 1. 0. 1. 0. 1. 0.]\n",
            " [0. 1. 0. 1. 0. 1. 0. 1.]\n",
            " [1. 0. 1. 0. 1. 0. 1. 0.]\n",
            " [0. 1. 0. 1. 0. 1. 0. 1.]\n",
            " [1. 0. 1. 0. 1. 0. 1. 0.]\n",
            " [0. 1. 0. 1. 0. 1. 0. 1.]]\n"
          ]
        }
      ],
      "source": [
        "a = np.ones((8,8))\n",
        "a[1::2,::2]=0\n",
        "a[::2,1::2]=0\n",
        "print(a)"
      ]
    },
    {
      "cell_type": "markdown",
      "metadata": {
        "id": "fDYgoh87M5Ge"
      },
      "source": [
        "#### 20. Consider a (6,7,8) shape array, what is the index (x,y,z) of the 100th element? \n",
        "(**hint**: np.unravel_index)"
      ]
    },
    {
      "cell_type": "code",
      "execution_count": null,
      "metadata": {
        "id": "MzMSap1xM5Ge",
        "colab": {
          "base_uri": "https://localhost:8080/"
        },
        "outputId": "b63b263e-b176-410a-b5fa-4e02d6f36ee9"
      },
      "outputs": [
        {
          "output_type": "stream",
          "name": "stdout",
          "text": [
            "(1, 5, 3)\n",
            "None\n"
          ]
        }
      ],
      "source": [
        "a = print(np.unravel_index(99,(6,7,8)))\n",
        "print(a)"
      ]
    },
    {
      "cell_type": "markdown",
      "metadata": {
        "id": "yNa1axgBM5Gf"
      },
      "source": [
        "#### 21. Create a checkerboard 8x8 matrix using the tile function (★☆☆) \n",
        "(**hint**: np.tile)"
      ]
    },
    {
      "cell_type": "code",
      "execution_count": null,
      "metadata": {
        "id": "I1YIwGV3M5Gf",
        "colab": {
          "base_uri": "https://localhost:8080/"
        },
        "outputId": "5588158e-ef12-4d05-8d2c-d57fc9285dcd"
      },
      "outputs": [
        {
          "output_type": "stream",
          "name": "stdout",
          "text": [
            "[[0 1 0 1 0 1 0 1]\n",
            " [1 0 1 0 1 0 1 0]\n",
            " [0 1 0 1 0 1 0 1]\n",
            " [1 0 1 0 1 0 1 0]\n",
            " [0 1 0 1 0 1 0 1]\n",
            " [1 0 1 0 1 0 1 0]\n",
            " [0 1 0 1 0 1 0 1]\n",
            " [1 0 1 0 1 0 1 0]]\n"
          ]
        }
      ],
      "source": [
        "a0 = np.array([[0,1],[1,0]])\n",
        "a = np.tile(a0,(4,4))\n",
        "print(a)"
      ]
    },
    {
      "cell_type": "markdown",
      "metadata": {
        "id": "pww5BUGbM5Gf"
      },
      "source": [
        "#### 22. Normalize a 5x5 random matrix (★☆☆) \n",
        "(**hint**: (x - min) / (max - min))"
      ]
    },
    {
      "cell_type": "code",
      "execution_count": null,
      "metadata": {
        "id": "o1Qf1expM5Gf",
        "colab": {
          "base_uri": "https://localhost:8080/"
        },
        "outputId": "b041e3a4-8f4a-41a9-b0b9-858e87ece212"
      },
      "outputs": [
        {
          "output_type": "stream",
          "name": "stdout",
          "text": [
            "[[-1.55285277  0.26437273  0.88129002  1.8233243  -1.15747794]\n",
            " [-0.85293378  1.48732989 -1.35011138  0.37891687 -1.26756479]\n",
            " [ 0.2243275  -0.08000495  1.08834365  1.82898962 -0.4017875 ]\n",
            " [-1.5962749  -0.49383468  0.64079459 -0.11420343 -0.53268288]\n",
            " [-0.7528332   0.93189581  0.19264323  0.82215802 -0.41182405]]\n"
          ]
        }
      ],
      "source": [
        "a = np.random.random((5,5))\n",
        "a = (a-np.mean(a))/(np.std(a))\n",
        "print(a)"
      ]
    },
    {
      "cell_type": "markdown",
      "metadata": {
        "id": "0eZ8tHmvM5Gg"
      },
      "source": [
        "#### 23. Create a custom dtype that describes a color as four unsigned bytes (RGBA) (★☆☆) \n",
        "(**hint**: np.dtype)"
      ]
    },
    {
      "cell_type": "code",
      "execution_count": null,
      "metadata": {
        "collapsed": true,
        "id": "gN21k6znM5Gg"
      },
      "outputs": [],
      "source": [
        "color = np.dtype([(\"r\", np.ubyte),(\"g\", np.ubyte),(\"b\", np.ubyte),(\"a\", np.ubyte)])"
      ]
    },
    {
      "cell_type": "markdown",
      "metadata": {
        "id": "U1oSp_xvM5Gg"
      },
      "source": [
        "#### 24. Multiply a 5x3 matrix by a 3x2 matrix (real matrix product) (★☆☆) \n",
        "(**hint**: np.dot | @)"
      ]
    },
    {
      "cell_type": "code",
      "execution_count": null,
      "metadata": {
        "id": "rkviAy4wM5Gg",
        "colab": {
          "base_uri": "https://localhost:8080/"
        },
        "outputId": "94f2d339-cb16-4972-a015-19c928f46c7f"
      },
      "outputs": [
        {
          "output_type": "stream",
          "name": "stdout",
          "text": [
            "[[0. 0.]\n",
            " [0. 0.]\n",
            " [0. 0.]\n",
            " [0. 0.]\n",
            " [0. 0.]]\n"
          ]
        }
      ],
      "source": [
        "a = np.dot(np.ones((5,3)),np.zeros((3,2)))\n",
        "print(a)"
      ]
    },
    {
      "cell_type": "markdown",
      "metadata": {
        "id": "QpzqnaByM5Gh"
      },
      "source": [
        "#### 25. Given a 1D array, negate all elements which are between 3 and 8, in place. (★☆☆) \n",
        "(**hint**: >, <=)"
      ]
    },
    {
      "cell_type": "code",
      "execution_count": null,
      "metadata": {
        "id": "4lMOVAW-M5Gh",
        "colab": {
          "base_uri": "https://localhost:8080/"
        },
        "outputId": "5cf2b5a7-8b77-426d-c1ca-499bca850429"
      },
      "outputs": [
        {
          "output_type": "stream",
          "name": "stdout",
          "text": [
            "[ 0  1  2  3 -4 -5 -6 -7  8  9 10]\n"
          ]
        }
      ],
      "source": [
        "a = np.arange(11)\n",
        "a[(3 < a) & (a < 8)] *= -1\n",
        "print(a)"
      ]
    },
    {
      "cell_type": "markdown",
      "metadata": {
        "id": "I3FMLrSeM5Gh"
      },
      "source": [
        "#### 26. What is the output of the following script? (★☆☆) \n",
        "(**hint**: np.sum)"
      ]
    },
    {
      "cell_type": "markdown",
      "metadata": {
        "id": "9sHtwfLOM5Gi"
      },
      "source": [
        "```python\n",
        "# Author: Jake VanderPlas\n",
        "\n",
        "print(sum(range(5),-1))\n",
        "from numpy import *\n",
        "print(sum(range(5),-1))\n",
        "```"
      ]
    },
    {
      "cell_type": "code",
      "execution_count": null,
      "metadata": {
        "id": "XZBzzyXJM5Gi",
        "colab": {
          "base_uri": "https://localhost:8080/"
        },
        "outputId": "7db0b4ae-4cb5-4419-f312-733111c85927"
      },
      "outputs": [
        {
          "output_type": "stream",
          "name": "stdout",
          "text": [
            "9\n",
            "10\n"
          ]
        }
      ],
      "source": [
        "print(sum(range(5),-1))\n",
        "from numpy import *\n",
        "print(sum(range(5),-1))"
      ]
    },
    {
      "cell_type": "markdown",
      "metadata": {
        "id": "AAirF4IhM5Gi"
      },
      "source": [
        "#### 27. Consider an integer vector Z, which of these expressions are legal? (★☆☆)"
      ]
    },
    {
      "cell_type": "markdown",
      "metadata": {
        "id": "x-vmwQJVM5Gi"
      },
      "source": [
        "```python\n",
        "Z**Z\n",
        "2 << Z >> 2\n",
        "Z <- Z\n",
        "1j*Z\n",
        "Z/1/1\n",
        "Z<Z>Z\n",
        "```"
      ]
    },
    {
      "cell_type": "code",
      "execution_count": null,
      "metadata": {
        "id": "dXCa6i6UM5Gj"
      },
      "outputs": [],
      "source": [
        "# except Z<Z>Z all are legal\n"
      ]
    },
    {
      "cell_type": "markdown",
      "metadata": {
        "id": "cm1mthjrM5Gj"
      },
      "source": [
        "#### 28. What are the result of the following expressions?"
      ]
    },
    {
      "cell_type": "markdown",
      "metadata": {
        "id": "SyHXgjo-M5Gj"
      },
      "source": [
        "```python\n",
        "np.array(0) / np.array(0)\n",
        "np.array(0) // np.array(0)\n",
        "np.array([np.nan]).astype(int).astype(float)\n",
        "```"
      ]
    },
    {
      "cell_type": "code",
      "execution_count": null,
      "metadata": {
        "id": "DJvFCcKsM5Gj",
        "colab": {
          "base_uri": "https://localhost:8080/"
        },
        "outputId": "12605320-214b-464c-8880-c6cc3d10314d"
      },
      "outputs": [
        {
          "output_type": "stream",
          "name": "stdout",
          "text": [
            "nan\n",
            "0\n",
            "[-9.22337204e+18]\n"
          ]
        },
        {
          "output_type": "stream",
          "name": "stderr",
          "text": [
            "/usr/local/lib/python3.7/dist-packages/ipykernel_launcher.py:1: RuntimeWarning: invalid value encountered in true_divide\n",
            "  \"\"\"Entry point for launching an IPython kernel.\n",
            "/usr/local/lib/python3.7/dist-packages/ipykernel_launcher.py:2: RuntimeWarning: divide by zero encountered in floor_divide\n",
            "  \n"
          ]
        }
      ],
      "source": [
        "print(np.array(0) / np.array(0))\n",
        "print(np.array(0) // np.array(0))\n",
        "print(np.array([np.nan]).astype(int).astype(float))"
      ]
    },
    {
      "cell_type": "markdown",
      "metadata": {
        "id": "THnUJlk8M5Gj"
      },
      "source": [
        "#### 29. How to round away from zero a float array ? (★☆☆) \n",
        "(**hint**: np.uniform, np.copysign, np.ceil, np.abs)"
      ]
    },
    {
      "cell_type": "code",
      "execution_count": null,
      "metadata": {
        "id": "9b5rm-x2M5Gk"
      },
      "outputs": [],
      "source": [
        "#"
      ]
    },
    {
      "cell_type": "markdown",
      "metadata": {
        "id": "r-XO2ehxM5Gk"
      },
      "source": [
        "#### 30. How to find common values between two arrays? (★☆☆) \n",
        "(**hint**: np.intersect1d)"
      ]
    },
    {
      "cell_type": "code",
      "execution_count": null,
      "metadata": {
        "id": "QWadrzD-M5Gk",
        "colab": {
          "base_uri": "https://localhost:8080/"
        },
        "outputId": "2b03026c-9d52-4be1-b0af-a5d3f8577feb"
      },
      "outputs": [
        {
          "output_type": "stream",
          "name": "stdout",
          "text": [
            "[3 5 7]\n"
          ]
        }
      ],
      "source": [
        "a1 = np.random.randint(0,8,6)\n",
        "a2 = np.random.randint(0,8,9)\n",
        "print(np.intersect1d(a1,a2))"
      ]
    },
    {
      "cell_type": "markdown",
      "metadata": {
        "id": "ohgHdw1FM5Gk"
      },
      "source": [
        "#### 31. How to ignore all numpy warnings (not recommended)? (★☆☆) \n",
        "(**hint**: np.seterr, np.errstate)"
      ]
    },
    {
      "cell_type": "code",
      "execution_count": null,
      "metadata": {
        "id": "S-RkVVb0M5Gk"
      },
      "outputs": [],
      "source": [
        "old_settings = np.seterr(all=\"ignore\")\n"
      ]
    },
    {
      "cell_type": "markdown",
      "metadata": {
        "id": "9Vzr3BR5M5Gl"
      },
      "source": [
        "#### 32. Is the following expressions true? (★☆☆) \n",
        "(**hint**: imaginary number)"
      ]
    },
    {
      "cell_type": "markdown",
      "metadata": {
        "id": "KMrNIbD3M5Gl"
      },
      "source": [
        "```python\n",
        "np.sqrt(-1) == np.emath.sqrt(-1)\n",
        "```"
      ]
    },
    {
      "cell_type": "code",
      "execution_count": 51,
      "metadata": {
        "id": "t2yXNY5WM5Gl",
        "colab": {
          "base_uri": "https://localhost:8080/"
        },
        "outputId": "c1183bcb-25ab-42a3-d52c-f3ebc8ff4db8"
      },
      "outputs": [
        {
          "output_type": "stream",
          "name": "stdout",
          "text": [
            "nan\n",
            "1j\n"
          ]
        },
        {
          "output_type": "stream",
          "name": "stderr",
          "text": [
            "/usr/local/lib/python3.7/dist-packages/ipykernel_launcher.py:1: RuntimeWarning: invalid value encountered in sqrt\n",
            "  \"\"\"Entry point for launching an IPython kernel.\n"
          ]
        }
      ],
      "source": [
        "# false\n",
        "# nan not equal to 1j"
      ]
    },
    {
      "cell_type": "markdown",
      "metadata": {
        "id": "RcTVRdqbM5Gl"
      },
      "source": [
        "#### 33. How to get the dates of yesterday, today and tomorrow? (★☆☆) \n",
        "(**hint**: np.datetime64, np.timedelta64)"
      ]
    },
    {
      "cell_type": "code",
      "execution_count": 54,
      "metadata": {
        "collapsed": true,
        "id": "m58ek78LM5Gm",
        "colab": {
          "base_uri": "https://localhost:8080/"
        },
        "outputId": "42f15ec6-6196-4871-e669-0e80d93f556e"
      },
      "outputs": [
        {
          "output_type": "stream",
          "name": "stdout",
          "text": [
            "2022-07-22 2022-07-23 2022-07-24\n"
          ]
        }
      ],
      "source": [
        "today     = np.datetime64('today')\n",
        "yesterday = np.datetime64('today') - np.timedelta64(1)\n",
        "tomorrow  = np.datetime64('today') + np.timedelta64(1)\n",
        "print(yesterday,today,tomorrow)"
      ]
    },
    {
      "cell_type": "markdown",
      "metadata": {
        "id": "AfNu78wwM5Gm"
      },
      "source": [
        "#### 34. How to get all the dates corresponding to the month of July 2016? (★★☆) \n",
        "(**hint**: np.arange(dtype=datetime64\\['D'\\]))"
      ]
    },
    {
      "cell_type": "code",
      "execution_count": 57,
      "metadata": {
        "id": "tbxY6mrYM5Gm",
        "colab": {
          "base_uri": "https://localhost:8080/"
        },
        "outputId": "65cfd2f0-5d6d-4223-8357-84c609713f77"
      },
      "outputs": [
        {
          "output_type": "execute_result",
          "data": {
            "text/plain": [
              "array(['2016-07-01', '2016-07-02', '2016-07-03', '2016-07-04',\n",
              "       '2016-07-05', '2016-07-06', '2016-07-07', '2016-07-08',\n",
              "       '2016-07-09', '2016-07-10', '2016-07-11', '2016-07-12',\n",
              "       '2016-07-13', '2016-07-14', '2016-07-15', '2016-07-16',\n",
              "       '2016-07-17', '2016-07-18', '2016-07-19', '2016-07-20',\n",
              "       '2016-07-21', '2016-07-22', '2016-07-23', '2016-07-24',\n",
              "       '2016-07-25', '2016-07-26', '2016-07-27', '2016-07-28',\n",
              "       '2016-07-29', '2016-07-30', '2016-07-31'], dtype='datetime64[D]')"
            ]
          },
          "metadata": {},
          "execution_count": 57
        }
      ],
      "source": [
        "np.arange('2016-07', '2016-08', dtype='datetime64[D]')"
      ]
    },
    {
      "cell_type": "markdown",
      "metadata": {
        "id": "l0EDgOcAM5Gm"
      },
      "source": [
        "#### 35. How to compute ((A+B)\\*(-A/2)) in place (without copy)? (★★☆) \n",
        "(**hint**: np.add(out=), np.negative(out=), np.multiply(out=), np.divide(out=))"
      ]
    },
    {
      "cell_type": "code",
      "execution_count": 58,
      "metadata": {
        "id": "qG_QRLJcM5Gm",
        "colab": {
          "base_uri": "https://localhost:8080/"
        },
        "outputId": "5b67dde7-033d-49f0-b4b9-5c5091ed53aa"
      },
      "outputs": [
        {
          "output_type": "execute_result",
          "data": {
            "text/plain": [
              "array([-1.5, -1.5, -1.5])"
            ]
          },
          "metadata": {},
          "execution_count": 58
        }
      ],
      "source": [
        "A = np.ones(3)*1\n",
        "B = np.ones(3)*2\n",
        "np.add(A,B,out=B)\n",
        "np.divide(A,2,out=A)\n",
        "np.negative(A,out=A)\n",
        "np.multiply(A,B,out=A)"
      ]
    },
    {
      "cell_type": "markdown",
      "metadata": {
        "id": "m9ZVf6-VM5Gn"
      },
      "source": [
        "#### 36. Extract the integer part of a random array using 5 different methods (★★☆) \n",
        "(**hint**: %, np.floor, np.ceil, astype, np.trunc)"
      ]
    },
    {
      "cell_type": "code",
      "execution_count": 60,
      "metadata": {
        "id": "WJwQes6WM5Gn",
        "colab": {
          "base_uri": "https://localhost:8080/"
        },
        "outputId": "d2fad6a7-6d57-4f14-e2c1-98e164eba4d3"
      },
      "outputs": [
        {
          "output_type": "stream",
          "name": "stdout",
          "text": [
            "[5.08802866 1.95080607 9.81442395 4.8818439  9.42742856 1.82955637\n",
            " 1.50692055 7.26428714 1.46736523 7.72423964]\n",
            "[5. 1. 9. 4. 9. 1. 1. 7. 1. 7.]\n",
            "[5. 1. 9. 4. 9. 1. 1. 7. 1. 7.]\n",
            "[5. 1. 9. 4. 9. 1. 1. 7. 1. 7.]\n",
            "[5 1 9 4 9 1 1 7 1 7]\n",
            "[5. 1. 9. 4. 9. 1. 1. 7. 1. 7.]\n"
          ]
        }
      ],
      "source": [
        "a = np.random.uniform(0,10,10)\n",
        "print(a)\n",
        "print(a - a%1)\n",
        "print(a // 1)\n",
        "print(np.floor(a))\n",
        "print(a.astype(int))\n",
        "print(np.trunc(a))"
      ]
    },
    {
      "cell_type": "markdown",
      "metadata": {
        "id": "4bLADUtlM5Gn"
      },
      "source": [
        "#### 37. Create a 5x5 matrix with row values ranging from 0 to 4 (★★☆) \n",
        "(**hint**: np.arange)"
      ]
    },
    {
      "cell_type": "code",
      "execution_count": 61,
      "metadata": {
        "id": "tZ3BvpkUM5Gn",
        "colab": {
          "base_uri": "https://localhost:8080/"
        },
        "outputId": "96d7e3f6-99d9-40ee-a0cc-183879da173d"
      },
      "outputs": [
        {
          "output_type": "stream",
          "name": "stdout",
          "text": [
            "[[0. 1. 2. 3. 4.]\n",
            " [0. 1. 2. 3. 4.]\n",
            " [0. 1. 2. 3. 4.]\n",
            " [0. 1. 2. 3. 4.]\n",
            " [0. 1. 2. 3. 4.]]\n"
          ]
        }
      ],
      "source": [
        "a = np.arange(5)\n",
        "b = np.zeros((5,5))\n",
        "a = a+b\n",
        "print(a)"
      ]
    },
    {
      "cell_type": "markdown",
      "metadata": {
        "id": "uxOmayJcM5Go"
      },
      "source": [
        "#### 38. Consider a generator function that generates 10 integers and use it to build an array (★☆☆) \n",
        "(**hint**: np.fromiter)"
      ]
    },
    {
      "cell_type": "code",
      "execution_count": 62,
      "metadata": {
        "id": "0YT31toxM5Go",
        "colab": {
          "base_uri": "https://localhost:8080/"
        },
        "outputId": "8d50d1f3-ec73-4030-cd35-52c02d175e03"
      },
      "outputs": [
        {
          "output_type": "stream",
          "name": "stdout",
          "text": [
            "[0. 1. 2. 3. 4. 5. 6. 7. 8. 9.]\n"
          ]
        }
      ],
      "source": [
        "def arr_gene():\n",
        "  for x in range(10):\n",
        "    yield x\n",
        "\n",
        "a = np.fromiter(arr_gene(),dtype=float,count=-1)\n",
        "print(a)"
      ]
    },
    {
      "cell_type": "markdown",
      "metadata": {
        "id": "tEObY8pNM5Go"
      },
      "source": [
        "#### 39. Create a vector of size 10 with values ranging from 0 to 1, both excluded (★★☆) \n",
        "(**hint**: np.linspace)"
      ]
    },
    {
      "cell_type": "code",
      "execution_count": 65,
      "metadata": {
        "id": "cso08r-bM5Gp",
        "colab": {
          "base_uri": "https://localhost:8080/"
        },
        "outputId": "323fa460-af43-49c6-cfaa-25b56bcd28db"
      },
      "outputs": [
        {
          "output_type": "stream",
          "name": "stdout",
          "text": [
            "[0.09090909 0.18181818 0.27272727 0.36363636 0.45454545 0.54545455\n",
            " 0.63636364 0.72727273 0.81818182 0.90909091]\n"
          ]
        }
      ],
      "source": [
        "a = np.linspace(0,1,11,endpoint=False)[1:]\n",
        "print(a)"
      ]
    },
    {
      "cell_type": "markdown",
      "metadata": {
        "id": "ifSuvhhPM5Gp"
      },
      "source": [
        "#### 40. Create a random vector of size 10 and sort it (★★☆) \n",
        "(**hint**: sort)"
      ]
    },
    {
      "cell_type": "code",
      "execution_count": 71,
      "metadata": {
        "id": "0PP9D1JQM5Gp",
        "colab": {
          "base_uri": "https://localhost:8080/"
        },
        "outputId": "49293e48-5f12-4245-f7cc-4e5ef92fc5d1"
      },
      "outputs": [
        {
          "output_type": "stream",
          "name": "stdout",
          "text": [
            "[0.14923045 0.15369436 0.18459283 0.24567199 0.28751549 0.4007837\n",
            " 0.47028872 0.55097941 0.61040734 0.93365331]\n"
          ]
        }
      ],
      "source": [
        "a = np.random.random(10)\n",
        "a.sort()\n",
        "print(a)"
      ]
    },
    {
      "cell_type": "markdown",
      "metadata": {
        "id": "khALuiOpM5Gp"
      },
      "source": [
        "#### 41. How to sum a small array faster than np.sum? (★★☆) \n",
        "(**hint**: np.add.reduce)"
      ]
    },
    {
      "cell_type": "code",
      "execution_count": 72,
      "metadata": {
        "id": "U4HhJ4KfM5Gp",
        "colab": {
          "base_uri": "https://localhost:8080/"
        },
        "outputId": "88957890-551f-4543-e3e5-b781c7b3ad07"
      },
      "outputs": [
        {
          "output_type": "execute_result",
          "data": {
            "text/plain": [
              "28"
            ]
          },
          "metadata": {},
          "execution_count": 72
        }
      ],
      "source": [
        "a = np.arange(8)\n",
        "np.add.reduce(a)"
      ]
    },
    {
      "cell_type": "markdown",
      "metadata": {
        "id": "xKErUT5uM5Gq"
      },
      "source": [
        "#### 42. Consider two random array A and B, check if they are equal (★★☆) \n",
        "(**hint**: np.allclose, np.array\\_equal)"
      ]
    },
    {
      "cell_type": "code",
      "execution_count": 76,
      "metadata": {
        "id": "nBDuq9xsM5Gq",
        "colab": {
          "base_uri": "https://localhost:8080/"
        },
        "outputId": "906e5a67-67f7-40c0-a169-a38dda728b04"
      },
      "outputs": [
        {
          "output_type": "stream",
          "name": "stdout",
          "text": [
            "<ufunc 'equal'>\n",
            "<ufunc 'equal'>\n",
            "<ufunc 'equal'>\n",
            "<ufunc 'equal'>\n"
          ]
        }
      ],
      "source": [
        "a = np.random.randint(0,10,5)\n",
        "b = np.random.randint(0,10,5)\n",
        "\n",
        "equal_0 = np.allclose(a,b)\n",
        "print(equal)\n",
        "\n",
        "\n",
        "equal_1 = np.array_equal(a,b)\n",
        "print(equal)\n",
        "\n",
        "a = np.random.randint(0,5,5)\n",
        "b = np.random.randint(0,1,5)\n",
        "\n",
        "equal_0 = np.allclose(a,b)\n",
        "print(equal)\n",
        "\n",
        "\n",
        "equal_1 = np.array_equal(a,b)\n",
        "print(equal)"
      ]
    },
    {
      "cell_type": "markdown",
      "metadata": {
        "id": "qSB2ydaUM5Gq"
      },
      "source": [
        "#### 43. Make an array immutable (read-only) (★★☆) \n",
        "(**hint**: flags.writeable)"
      ]
    },
    {
      "cell_type": "code",
      "execution_count": 78,
      "metadata": {
        "id": "pUboNQx8M5Gq",
        "colab": {
          "base_uri": "https://localhost:8080/",
          "height": 200
        },
        "outputId": "5e5077b9-375f-4190-a866-4899e9b1b074"
      },
      "outputs": [
        {
          "output_type": "error",
          "ename": "ValueError",
          "evalue": "ignored",
          "traceback": [
            "\u001b[0;31m---------------------------------------------------------------------------\u001b[0m",
            "\u001b[0;31mValueError\u001b[0m                                Traceback (most recent call last)",
            "\u001b[0;32m<ipython-input-78-dcc5e7f145b5>\u001b[0m in \u001b[0;36m<module>\u001b[0;34m()\u001b[0m\n\u001b[1;32m      1\u001b[0m \u001b[0mZ\u001b[0m \u001b[0;34m=\u001b[0m \u001b[0mnp\u001b[0m\u001b[0;34m.\u001b[0m\u001b[0mzeros\u001b[0m\u001b[0;34m(\u001b[0m\u001b[0;36m10\u001b[0m\u001b[0;34m)\u001b[0m\u001b[0;34m\u001b[0m\u001b[0;34m\u001b[0m\u001b[0m\n\u001b[1;32m      2\u001b[0m \u001b[0mZ\u001b[0m\u001b[0;34m.\u001b[0m\u001b[0mflags\u001b[0m\u001b[0;34m.\u001b[0m\u001b[0mwriteable\u001b[0m \u001b[0;34m=\u001b[0m \u001b[0;32mFalse\u001b[0m\u001b[0;34m\u001b[0m\u001b[0;34m\u001b[0m\u001b[0m\n\u001b[0;32m----> 3\u001b[0;31m \u001b[0mZ\u001b[0m\u001b[0;34m[\u001b[0m\u001b[0;36m0\u001b[0m\u001b[0;34m]\u001b[0m \u001b[0;34m=\u001b[0m \u001b[0;36m1\u001b[0m\u001b[0;34m\u001b[0m\u001b[0;34m\u001b[0m\u001b[0m\n\u001b[0m",
            "\u001b[0;31mValueError\u001b[0m: assignment destination is read-only"
          ]
        }
      ],
      "source": [
        "a = np.zeros(10)\n",
        "a.flags.writeable = False\n",
        "a[0] = 1"
      ]
    },
    {
      "cell_type": "markdown",
      "metadata": {
        "id": "hO_Zxsf5M5Gr"
      },
      "source": [
        "#### 44. Consider a random 10x2 matrix representing cartesian coordinates, convert them to polar coordinates (★★☆) \n",
        "(**hint**: np.sqrt, np.arctan2)"
      ]
    },
    {
      "cell_type": "code",
      "execution_count": 79,
      "metadata": {
        "id": "1FffkKleM5Gr",
        "colab": {
          "base_uri": "https://localhost:8080/"
        },
        "outputId": "10033ff4-528d-4ae2-efd5-4255d72dedf2"
      },
      "outputs": [
        {
          "output_type": "stream",
          "name": "stdout",
          "text": [
            "[0.78326213 1.05865966 0.8851613  0.52958806 0.85686032 0.93402129\n",
            " 0.35100197 0.66321458 1.23505757 0.92014244]\n",
            "[0.48274759 0.67981196 0.54109106 1.34238798 0.27576385 1.33256072\n",
            " 0.11335067 0.07790816 0.65321992 0.22301238]\n"
          ]
        }
      ],
      "source": [
        "a = np.random.random((10,2))\n",
        "x,y = a[:,0], a[:,1]\n",
        "cc = np.sqrt(x**2+y**2)\n",
        "pc = np.arctan2(y,x)\n",
        "print(cc)\n",
        "print(pc)"
      ]
    },
    {
      "cell_type": "markdown",
      "metadata": {
        "id": "TGr9GwUAM5Gr"
      },
      "source": [
        "#### 45. Create random vector of size 10 and replace the maximum value by 0 (★★☆) \n",
        "(**hint**: argmax)"
      ]
    },
    {
      "cell_type": "code",
      "execution_count": 82,
      "metadata": {
        "id": "cNnM9cDDM5Gr",
        "colab": {
          "base_uri": "https://localhost:8080/"
        },
        "outputId": "70a69375-239a-4c16-d233-892e4beb25dc"
      },
      "outputs": [
        {
          "output_type": "stream",
          "name": "stdout",
          "text": [
            "[0.03783478 0.06613751 0.11141962 0.31022761 0.337935   0.41865737\n",
            " 0.47187639 0.55484494 0.70500111 0.        ]\n"
          ]
        }
      ],
      "source": [
        "a = np.random.random(10)\n",
        "a[a.argmax()] = 0\n",
        "print(a)"
      ]
    },
    {
      "cell_type": "markdown",
      "metadata": {
        "id": "OebXSlQTM5Gs"
      },
      "source": [
        "#### 46. Create a structured array with `x` and `y` coordinates covering the \\[0,1\\]x\\[0,1\\] area (★★☆) \n",
        "(**hint**: np.meshgrid)"
      ]
    },
    {
      "cell_type": "code",
      "execution_count": null,
      "metadata": {
        "id": "MWN_v6GFM5Gs"
      },
      "outputs": [],
      "source": [
        "#"
      ]
    },
    {
      "cell_type": "markdown",
      "metadata": {
        "id": "js-e13bTM5Gs"
      },
      "source": [
        "####  47. Given two arrays, X and Y, construct the Cauchy matrix C (Cij =1/(xi - yj)) \n",
        "(**hint**: np.subtract.outer)"
      ]
    },
    {
      "cell_type": "code",
      "execution_count": null,
      "metadata": {
        "id": "ehhgLtmeM5Gs"
      },
      "outputs": [],
      "source": [
        "#"
      ]
    },
    {
      "cell_type": "markdown",
      "metadata": {
        "id": "xw69UvgiM5Gs"
      },
      "source": [
        "#### 48. Print the minimum and maximum representable value for each numpy scalar type (★★☆) \n",
        "(**hint**: np.iinfo, np.finfo, eps)"
      ]
    },
    {
      "cell_type": "code",
      "execution_count": null,
      "metadata": {
        "id": "DmOXCwyXM5Gt"
      },
      "outputs": [],
      "source": [
        "#"
      ]
    },
    {
      "cell_type": "markdown",
      "metadata": {
        "id": "hTh9hiWZM5Gt"
      },
      "source": [
        "#### 49. How to print all the values of an array? (★★☆) \n",
        "(**hint**: np.set\\_printoptions)"
      ]
    },
    {
      "cell_type": "code",
      "execution_count": 84,
      "metadata": {
        "id": "6hi79bEqM5Gt",
        "colab": {
          "base_uri": "https://localhost:8080/"
        },
        "outputId": "d1557a28-1bf5-4610-b02b-e705e9e23a0f"
      },
      "outputs": [
        {
          "output_type": "stream",
          "name": "stdout",
          "text": [
            "[[0. 0. 0. 0. 0. 0. 0. 0. 0. 0. 0. 0. 0. 0. 0. 0. 0. 0. 0. 0. 0. 0. 0. 0.\n",
            "  0. 0. 0. 0. 0. 0. 0. 0.]\n",
            " [0. 0. 0. 0. 0. 0. 0. 0. 0. 0. 0. 0. 0. 0. 0. 0. 0. 0. 0. 0. 0. 0. 0. 0.\n",
            "  0. 0. 0. 0. 0. 0. 0. 0.]\n",
            " [0. 0. 0. 0. 0. 0. 0. 0. 0. 0. 0. 0. 0. 0. 0. 0. 0. 0. 0. 0. 0. 0. 0. 0.\n",
            "  0. 0. 0. 0. 0. 0. 0. 0.]\n",
            " [0. 0. 0. 0. 0. 0. 0. 0. 0. 0. 0. 0. 0. 0. 0. 0. 0. 0. 0. 0. 0. 0. 0. 0.\n",
            "  0. 0. 0. 0. 0. 0. 0. 0.]\n",
            " [0. 0. 0. 0. 0. 0. 0. 0. 0. 0. 0. 0. 0. 0. 0. 0. 0. 0. 0. 0. 0. 0. 0. 0.\n",
            "  0. 0. 0. 0. 0. 0. 0. 0.]\n",
            " [0. 0. 0. 0. 0. 0. 0. 0. 0. 0. 0. 0. 0. 0. 0. 0. 0. 0. 0. 0. 0. 0. 0. 0.\n",
            "  0. 0. 0. 0. 0. 0. 0. 0.]\n",
            " [0. 0. 0. 0. 0. 0. 0. 0. 0. 0. 0. 0. 0. 0. 0. 0. 0. 0. 0. 0. 0. 0. 0. 0.\n",
            "  0. 0. 0. 0. 0. 0. 0. 0.]\n",
            " [0. 0. 0. 0. 0. 0. 0. 0. 0. 0. 0. 0. 0. 0. 0. 0. 0. 0. 0. 0. 0. 0. 0. 0.\n",
            "  0. 0. 0. 0. 0. 0. 0. 0.]\n",
            " [0. 0. 0. 0. 0. 0. 0. 0. 0. 0. 0. 0. 0. 0. 0. 0. 0. 0. 0. 0. 0. 0. 0. 0.\n",
            "  0. 0. 0. 0. 0. 0. 0. 0.]\n",
            " [0. 0. 0. 0. 0. 0. 0. 0. 0. 0. 0. 0. 0. 0. 0. 0. 0. 0. 0. 0. 0. 0. 0. 0.\n",
            "  0. 0. 0. 0. 0. 0. 0. 0.]\n",
            " [0. 0. 0. 0. 0. 0. 0. 0. 0. 0. 0. 0. 0. 0. 0. 0. 0. 0. 0. 0. 0. 0. 0. 0.\n",
            "  0. 0. 0. 0. 0. 0. 0. 0.]\n",
            " [0. 0. 0. 0. 0. 0. 0. 0. 0. 0. 0. 0. 0. 0. 0. 0. 0. 0. 0. 0. 0. 0. 0. 0.\n",
            "  0. 0. 0. 0. 0. 0. 0. 0.]\n",
            " [0. 0. 0. 0. 0. 0. 0. 0. 0. 0. 0. 0. 0. 0. 0. 0. 0. 0. 0. 0. 0. 0. 0. 0.\n",
            "  0. 0. 0. 0. 0. 0. 0. 0.]\n",
            " [0. 0. 0. 0. 0. 0. 0. 0. 0. 0. 0. 0. 0. 0. 0. 0. 0. 0. 0. 0. 0. 0. 0. 0.\n",
            "  0. 0. 0. 0. 0. 0. 0. 0.]\n",
            " [0. 0. 0. 0. 0. 0. 0. 0. 0. 0. 0. 0. 0. 0. 0. 0. 0. 0. 0. 0. 0. 0. 0. 0.\n",
            "  0. 0. 0. 0. 0. 0. 0. 0.]\n",
            " [0. 0. 0. 0. 0. 0. 0. 0. 0. 0. 0. 0. 0. 0. 0. 0. 0. 0. 0. 0. 0. 0. 0. 0.\n",
            "  0. 0. 0. 0. 0. 0. 0. 0.]\n",
            " [0. 0. 0. 0. 0. 0. 0. 0. 0. 0. 0. 0. 0. 0. 0. 0. 0. 0. 0. 0. 0. 0. 0. 0.\n",
            "  0. 0. 0. 0. 0. 0. 0. 0.]\n",
            " [0. 0. 0. 0. 0. 0. 0. 0. 0. 0. 0. 0. 0. 0. 0. 0. 0. 0. 0. 0. 0. 0. 0. 0.\n",
            "  0. 0. 0. 0. 0. 0. 0. 0.]\n",
            " [0. 0. 0. 0. 0. 0. 0. 0. 0. 0. 0. 0. 0. 0. 0. 0. 0. 0. 0. 0. 0. 0. 0. 0.\n",
            "  0. 0. 0. 0. 0. 0. 0. 0.]\n",
            " [0. 0. 0. 0. 0. 0. 0. 0. 0. 0. 0. 0. 0. 0. 0. 0. 0. 0. 0. 0. 0. 0. 0. 0.\n",
            "  0. 0. 0. 0. 0. 0. 0. 0.]\n",
            " [0. 0. 0. 0. 0. 0. 0. 0. 0. 0. 0. 0. 0. 0. 0. 0. 0. 0. 0. 0. 0. 0. 0. 0.\n",
            "  0. 0. 0. 0. 0. 0. 0. 0.]\n",
            " [0. 0. 0. 0. 0. 0. 0. 0. 0. 0. 0. 0. 0. 0. 0. 0. 0. 0. 0. 0. 0. 0. 0. 0.\n",
            "  0. 0. 0. 0. 0. 0. 0. 0.]\n",
            " [0. 0. 0. 0. 0. 0. 0. 0. 0. 0. 0. 0. 0. 0. 0. 0. 0. 0. 0. 0. 0. 0. 0. 0.\n",
            "  0. 0. 0. 0. 0. 0. 0. 0.]\n",
            " [0. 0. 0. 0. 0. 0. 0. 0. 0. 0. 0. 0. 0. 0. 0. 0. 0. 0. 0. 0. 0. 0. 0. 0.\n",
            "  0. 0. 0. 0. 0. 0. 0. 0.]\n",
            " [0. 0. 0. 0. 0. 0. 0. 0. 0. 0. 0. 0. 0. 0. 0. 0. 0. 0. 0. 0. 0. 0. 0. 0.\n",
            "  0. 0. 0. 0. 0. 0. 0. 0.]\n",
            " [0. 0. 0. 0. 0. 0. 0. 0. 0. 0. 0. 0. 0. 0. 0. 0. 0. 0. 0. 0. 0. 0. 0. 0.\n",
            "  0. 0. 0. 0. 0. 0. 0. 0.]\n",
            " [0. 0. 0. 0. 0. 0. 0. 0. 0. 0. 0. 0. 0. 0. 0. 0. 0. 0. 0. 0. 0. 0. 0. 0.\n",
            "  0. 0. 0. 0. 0. 0. 0. 0.]\n",
            " [0. 0. 0. 0. 0. 0. 0. 0. 0. 0. 0. 0. 0. 0. 0. 0. 0. 0. 0. 0. 0. 0. 0. 0.\n",
            "  0. 0. 0. 0. 0. 0. 0. 0.]\n",
            " [0. 0. 0. 0. 0. 0. 0. 0. 0. 0. 0. 0. 0. 0. 0. 0. 0. 0. 0. 0. 0. 0. 0. 0.\n",
            "  0. 0. 0. 0. 0. 0. 0. 0.]\n",
            " [0. 0. 0. 0. 0. 0. 0. 0. 0. 0. 0. 0. 0. 0. 0. 0. 0. 0. 0. 0. 0. 0. 0. 0.\n",
            "  0. 0. 0. 0. 0. 0. 0. 0.]\n",
            " [0. 0. 0. 0. 0. 0. 0. 0. 0. 0. 0. 0. 0. 0. 0. 0. 0. 0. 0. 0. 0. 0. 0. 0.\n",
            "  0. 0. 0. 0. 0. 0. 0. 0.]\n",
            " [0. 0. 0. 0. 0. 0. 0. 0. 0. 0. 0. 0. 0. 0. 0. 0. 0. 0. 0. 0. 0. 0. 0. 0.\n",
            "  0. 0. 0. 0. 0. 0. 0. 0.]]\n"
          ]
        }
      ],
      "source": [
        "np.set_printoptions(threshold=float(\"inf\"))\n",
        "a = np.zeros((32,32))\n",
        "print(a)"
      ]
    },
    {
      "cell_type": "markdown",
      "metadata": {
        "id": "27CqBB1FM5Gt"
      },
      "source": [
        "#### 50. How to find the closest value (to a given scalar) in a vector? (★★☆) \n",
        "(**hint**: argmin)"
      ]
    },
    {
      "cell_type": "code",
      "execution_count": 86,
      "metadata": {
        "id": "RUFu3-KhM5Gt",
        "colab": {
          "base_uri": "https://localhost:8080/"
        },
        "outputId": "9fe25b6d-d3cd-4117-f10d-56970048dcd7"
      },
      "outputs": [
        {
          "output_type": "stream",
          "name": "stdout",
          "text": [
            "3\n"
          ]
        }
      ],
      "source": [
        "a = np.arange(50)\n",
        "b = np.random.uniform(0,50)\n",
        "index = (np.abs(a-b)).argmin()\n",
        "print(a[index])"
      ]
    },
    {
      "cell_type": "markdown",
      "metadata": {
        "id": "Bq1fIor1M5Gu"
      },
      "source": [
        "#### 51. Create a structured array representing a position (x,y) and a color (r,g,b) (★★☆) \n",
        "(**hint**: dtype)"
      ]
    },
    {
      "cell_type": "code",
      "execution_count": 88,
      "metadata": {
        "id": "yJoob9asM5Gu",
        "colab": {
          "base_uri": "https://localhost:8080/"
        },
        "outputId": "0560a036-889a-4996-c0d5-a5efd812fe2e"
      },
      "outputs": [
        {
          "output_type": "stream",
          "name": "stdout",
          "text": [
            "[[((0., 0.), (0., 0., 0.)) ((0., 0.), (0., 0., 0.))\n",
            "  ((0., 0.), (0., 0., 0.)) ((0., 0.), (0., 0., 0.))]\n",
            " [((0., 0.), (0., 0., 0.)) ((0., 0.), (0., 0., 0.))\n",
            "  ((0., 0.), (0., 0., 0.)) ((0., 0.), (0., 0., 0.))]\n",
            " [((0., 0.), (0., 0., 0.)) ((0., 0.), (0., 0., 0.))\n",
            "  ((0., 0.), (0., 0., 0.)) ((0., 0.), (0., 0., 0.))]\n",
            " [((0., 0.), (0., 0., 0.)) ((0., 0.), (0., 0., 0.))\n",
            "  ((0., 0.), (0., 0., 0.)) ((0., 0.), (0., 0., 0.))]]\n"
          ]
        },
        {
          "output_type": "stream",
          "name": "stderr",
          "text": [
            "/usr/local/lib/python3.7/dist-packages/ipykernel_launcher.py:5: FutureWarning: Passing (type, 1) or '1type' as a synonym of type is deprecated; in a future version of numpy, it will be understood as (type, (1,)) / '(1,)type'.\n",
            "  \"\"\"\n"
          ]
        }
      ],
      "source": [
        "a = np.zeros((4,4), [ ('position', [ ('x', float, 1),\n",
        "                                  ('y', float, 1)]),\n",
        "                   ('color',    [ ('r', float, 1),\n",
        "                                  ('g', float, 1),\n",
        "                                  ('b', float, 1)])])\n",
        "print(a)"
      ]
    },
    {
      "cell_type": "markdown",
      "metadata": {
        "id": "cFc0n_TVM5Gu"
      },
      "source": [
        "#### 52. Consider a random vector with shape (100,2) representing coordinates, find point by point distances (★★☆) \n",
        "(**hint**: np.atleast\\_2d, T, np.sqrt)"
      ]
    },
    {
      "cell_type": "code",
      "execution_count": null,
      "metadata": {
        "id": "1bANDk0AM5Gu"
      },
      "outputs": [],
      "source": [
        "#"
      ]
    },
    {
      "cell_type": "markdown",
      "metadata": {
        "id": "a8eN5Lp-M5Gv"
      },
      "source": [
        "#### 53. How to convert a float (32 bits) array into an integer (32 bits) in place? \n",
        "(**hint**: astype(copy=False))"
      ]
    },
    {
      "cell_type": "code",
      "execution_count": 90,
      "metadata": {
        "id": "ByB3rW0MM5Gv",
        "colab": {
          "base_uri": "https://localhost:8080/"
        },
        "outputId": "d294da76-e79c-4583-9f9e-9f65ea73cd70"
      },
      "outputs": [
        {
          "output_type": "stream",
          "name": "stdout",
          "text": [
            "[ 0.  1.  2.  3.  4.  5.  6.  7.  8.  9. 10. 11. 12. 13. 14. 15.]\n"
          ]
        }
      ],
      "source": [
        "a = np.arange(16, dtype=np.int32)\n",
        "a = a.astype(np.float32, copy=False)\n",
        "print(a)"
      ]
    },
    {
      "cell_type": "markdown",
      "metadata": {
        "id": "-hn5ezNSM5Gv"
      },
      "source": [
        "#### 54. How to read the following file? (★★☆) \n",
        "(**hint**: np.genfromtxt)"
      ]
    },
    {
      "cell_type": "markdown",
      "metadata": {
        "id": "-QMzhtQxM5Gv"
      },
      "source": [
        "```\n",
        "1, 2, 3, 4, 5\n",
        "6,  ,  , 7, 8\n",
        " ,  , 9,10,11\n",
        "```"
      ]
    },
    {
      "cell_type": "code",
      "execution_count": 92,
      "metadata": {
        "id": "7v5ThYwmM5Gw",
        "colab": {
          "base_uri": "https://localhost:8080/"
        },
        "outputId": "4965d7d1-f0bd-4e31-c42e-846ae40bd038"
      },
      "outputs": [
        {
          "output_type": "stream",
          "name": "stdout",
          "text": [
            "[[ 1  2  3  4  5]\n",
            " [ 6 -1 -1  7  8]\n",
            " [-1 -1  9 10 11]]\n"
          ]
        }
      ],
      "source": [
        "from io import StringIO\n",
        "# Fake file\n",
        "s = StringIO('''1, 2, 3, 4, 5\n",
        "\n",
        "                6,  ,  , 7, 8\n",
        "\n",
        "                 ,  , 9,10,11\n",
        "''')\n",
        "a = np.genfromtxt(s, delimiter=\",\", dtype=np.int32)\n",
        "print(a)"
      ]
    },
    {
      "cell_type": "markdown",
      "metadata": {
        "id": "PxItsA2-M5Gw"
      },
      "source": [
        "#### 55. What is the equivalent of enumerate for numpy arrays? (★★☆) \n",
        "(**hint**: np.ndenumerate, np.ndindex)"
      ]
    },
    {
      "cell_type": "code",
      "execution_count": 93,
      "metadata": {
        "id": "_ykXbcdqM5Gw",
        "colab": {
          "base_uri": "https://localhost:8080/"
        },
        "outputId": "94278e8c-73ee-4455-81d6-692d5c09c6f4"
      },
      "outputs": [
        {
          "output_type": "stream",
          "name": "stdout",
          "text": [
            "(0, 0) 0\n",
            "(0, 1) 1\n",
            "(0, 2) 2\n",
            "(1, 0) 3\n",
            "(1, 1) 4\n",
            "(1, 2) 5\n",
            "(2, 0) 6\n",
            "(2, 1) 7\n",
            "(2, 2) 8\n",
            "(0, 0) 0\n",
            "(0, 1) 1\n",
            "(0, 2) 2\n",
            "(1, 0) 3\n",
            "(1, 1) 4\n",
            "(1, 2) 5\n",
            "(2, 0) 6\n",
            "(2, 1) 7\n",
            "(2, 2) 8\n"
          ]
        }
      ],
      "source": [
        "a = np.arange(9).reshape(3,3)\n",
        "for index, value in np.ndenumerate(a):\n",
        "    print(index, value)\n",
        "for index in np.ndindex(a.shape):\n",
        "    print(index, a[index])"
      ]
    },
    {
      "cell_type": "markdown",
      "metadata": {
        "id": "iioZi6ZAM5Gw"
      },
      "source": [
        "#### 56. Generate a generic 2D Gaussian-like array (★★☆) \n",
        "(**hint**: np.meshgrid, np.exp)"
      ]
    },
    {
      "cell_type": "code",
      "execution_count": null,
      "metadata": {
        "id": "cYrwR_LhM5Gw"
      },
      "outputs": [],
      "source": [
        "#"
      ]
    },
    {
      "cell_type": "markdown",
      "metadata": {
        "id": "HFTq-AM3M5Gx"
      },
      "source": [
        "#### 57. How to randomly place p elements in a 2D array? (★★☆) \n",
        "(**hint**: np.put, np.random.choice)"
      ]
    },
    {
      "cell_type": "code",
      "execution_count": 98,
      "metadata": {
        "id": "ceHVckEbM5Gx",
        "colab": {
          "base_uri": "https://localhost:8080/"
        },
        "outputId": "8a67de2e-25d9-403c-dd7e-27db1c689824"
      },
      "outputs": [
        {
          "output_type": "stream",
          "name": "stdout",
          "text": [
            "[[0. 0. 0. 0. 0. 0. 0. 0. 0. 0.]\n",
            " [0. 0. 0. 0. 0. 0. 0. 0. 0. 0.]\n",
            " [0. 0. 0. 0. 0. 0. 0. 0. 0. 0.]\n",
            " [0. 0. 0. 0. 0. 0. 0. 0. 0. 0.]\n",
            " [0. 0. 0. 0. 0. 0. 0. 0. 0. 0.]\n",
            " [0. 0. 0. 0. 0. 0. 0. 0. 0. 0.]\n",
            " [0. 0. 0. 0. 0. 0. 0. 0. 0. 0.]\n",
            " [0. 0. 0. 0. 0. 0. 0. 0. 0. 0.]\n",
            " [0. 0. 0. 0. 0. 0. 0. 0. 0. 0.]\n",
            " [0. 0. 0. 0. 0. 0. 0. 0. 0. 0.]]\n",
            "[[0. 0. 0. 0. 0. 0. 0. 0. 0. 0.]\n",
            " [0. 1. 0. 0. 0. 0. 0. 0. 0. 0.]\n",
            " [0. 0. 0. 0. 0. 0. 0. 0. 0. 0.]\n",
            " [0. 0. 0. 0. 0. 0. 0. 0. 0. 0.]\n",
            " [0. 0. 0. 0. 0. 0. 0. 0. 0. 0.]\n",
            " [1. 0. 0. 0. 0. 0. 0. 0. 0. 0.]\n",
            " [0. 0. 0. 0. 0. 0. 0. 0. 1. 0.]\n",
            " [0. 0. 0. 0. 0. 0. 0. 0. 0. 0.]\n",
            " [0. 0. 0. 0. 0. 0. 0. 0. 0. 0.]\n",
            " [0. 0. 0. 0. 0. 0. 0. 0. 0. 0.]]\n"
          ]
        }
      ],
      "source": [
        "a = 10\n",
        "b = 3\n",
        "c = np.zeros((a,a))\n",
        "print(c)\n",
        "np.put(c, np.random.choice(range(a*a), b, replace=False),1)\n",
        "print(c)"
      ]
    },
    {
      "cell_type": "markdown",
      "metadata": {
        "id": "cp9QvbysM5Gx"
      },
      "source": [
        "#### 58. Subtract the mean of each row of a matrix (★★☆) \n",
        "(**hint**: mean(axis=,keepdims=))"
      ]
    },
    {
      "cell_type": "code",
      "execution_count": 101,
      "metadata": {
        "id": "5uQrlxi_M5Gx",
        "colab": {
          "base_uri": "https://localhost:8080/"
        },
        "outputId": "592fe279-3951-48aa-c0cd-55f3546fe642"
      },
      "outputs": [
        {
          "output_type": "stream",
          "name": "stdout",
          "text": [
            "[[0.27995658 0.44678267 0.92511366 0.02952978 0.17760355 0.7869617\n",
            "  0.18673479 0.20063058 0.15360825 0.29164554]\n",
            " [0.2986615  0.30018868 0.74486411 0.66273379 0.19623112 0.11957495\n",
            "  0.28695327 0.09179378 0.41776593 0.48156052]\n",
            " [0.70660149 0.28533515 0.99589618 0.07516192 0.93631107 0.06421497\n",
            "  0.41560154 0.87432549 0.15267215 0.40000193]\n",
            " [0.53332217 0.49685183 0.17011815 0.74842155 0.20394464 0.46628496\n",
            "  0.8021955  0.93073751 0.15343892 0.03250644]\n",
            " [0.35224491 0.50456682 0.57736873 0.52355289 0.88070928 0.34802677\n",
            "  0.58358601 0.56514677 0.43341601 0.00458993]]\n",
            "[[-0.06790013  0.09892596  0.57725696 -0.31832693 -0.17025316  0.43910499\n",
            "  -0.16112192 -0.14722613 -0.19424846 -0.05621117]\n",
            " [-0.06137127 -0.05984408  0.38483134  0.30270103 -0.16380164 -0.24045781\n",
            "  -0.07307949 -0.26823898  0.05773316  0.12152775]\n",
            " [ 0.21598931 -0.20527704  0.50528399 -0.41545027  0.44569888 -0.42639722\n",
            "  -0.07501065  0.3837133  -0.33794004 -0.09061026]\n",
            " [ 0.07954001  0.04306967 -0.28366402  0.29463939 -0.24983753  0.01250279\n",
            "   0.34841333  0.47695535 -0.30034325 -0.42127573]\n",
            " [-0.12507591  0.02724601  0.10004792  0.04623208  0.40338847 -0.12929404\n",
            "   0.10626519  0.08782596 -0.0439048  -0.47273088]]\n"
          ]
        }
      ],
      "source": [
        "a = np.random.rand(5, 10)\n",
        "print(a)\n",
        "res = a - a.mean(axis=1, keepdims=True)\n",
        "print(res)"
      ]
    },
    {
      "cell_type": "markdown",
      "metadata": {
        "id": "cQNnVxMoM5Gx"
      },
      "source": [
        "#### 59. How to sort an array by the nth column? (★★☆) \n",
        "(**hint**: argsort)"
      ]
    },
    {
      "cell_type": "code",
      "execution_count": 108,
      "metadata": {
        "id": "2GwRgl2zM5Gy",
        "colab": {
          "base_uri": "https://localhost:8080/"
        },
        "outputId": "0b5627d0-519e-4778-91d9-fdba1c5f35d1"
      },
      "outputs": [
        {
          "output_type": "stream",
          "name": "stdout",
          "text": [
            "[[7 6 5]\n",
            " [3 4 2]\n",
            " [1 2 7]\n",
            " [1 1 5]]\n",
            " sorted_array \n",
            " [[1 1 5]\n",
            " [1 2 7]\n",
            " [3 4 2]\n",
            " [7 6 5]]\n"
          ]
        }
      ],
      "source": [
        "a = np.random.randint(0,8,(4,3))\n",
        "print(a)\n",
        "print(\" sorted_array \\n\",a[a[:,1].argsort()])"
      ]
    },
    {
      "cell_type": "markdown",
      "metadata": {
        "id": "_nKVvOB3M5Gy"
      },
      "source": [
        "#### 60. How to tell if a given 2D array has null columns? (★★☆) \n",
        "(**hint**: any, ~)"
      ]
    },
    {
      "cell_type": "code",
      "execution_count": 109,
      "metadata": {
        "id": "UfPhtqjrM5Gy",
        "colab": {
          "base_uri": "https://localhost:8080/"
        },
        "outputId": "260aa8df-b571-4c3a-f58c-1504b0127e7b"
      },
      "outputs": [
        {
          "output_type": "stream",
          "name": "stdout",
          "text": [
            "False\n"
          ]
        }
      ],
      "source": [
        "a = np.random.randint(0,10,(3,10))\n",
        "print((~a.any(axis=0)).any())"
      ]
    },
    {
      "cell_type": "markdown",
      "metadata": {
        "id": "AlUEHBdgM5Gy"
      },
      "source": [
        "#### 61. Find the nearest value from a given value in an array (★★☆) \n",
        "(**hint**: np.abs, argmin, flat)"
      ]
    },
    {
      "cell_type": "code",
      "execution_count": 110,
      "metadata": {
        "id": "2gkY7uOAM5Gy",
        "colab": {
          "base_uri": "https://localhost:8080/"
        },
        "outputId": "c45e76d5-96fe-4ff0-f338-e42b889eef37"
      },
      "outputs": [
        {
          "output_type": "stream",
          "name": "stdout",
          "text": [
            "0.5690052434768509\n"
          ]
        }
      ],
      "source": [
        "Z = np.random.uniform(0,1,10)\n",
        "z = 0.5\n",
        "m = Z.flat[np.abs(Z - z).argmin()]\n",
        "print(m)"
      ]
    },
    {
      "cell_type": "markdown",
      "metadata": {
        "id": "rj3xGOYuM5Gz"
      },
      "source": [
        "#### 62. Considering two arrays with shape (1,3) and (3,1), how to compute their sum using an iterator? (★★☆) \n",
        "(**hint**: np.nditer)"
      ]
    },
    {
      "cell_type": "code",
      "execution_count": 111,
      "metadata": {
        "id": "9OUkn09gM5Gz",
        "colab": {
          "base_uri": "https://localhost:8080/"
        },
        "outputId": "73de8839-2a01-4ff8-9063-bed0ef33de04"
      },
      "outputs": [
        {
          "output_type": "stream",
          "name": "stdout",
          "text": [
            "[[0 6 7]\n",
            " [3 0 8]\n",
            " [6 5 7]]\n",
            "[[0 1 7]\n",
            " [3 0 8]\n",
            " [6 5 7]]\n",
            "[[0 1 2]\n",
            " [3 0 8]\n",
            " [6 5 7]]\n",
            "[[0 1 2]\n",
            " [1 0 8]\n",
            " [6 5 7]]\n",
            "[[0 1 2]\n",
            " [1 2 8]\n",
            " [6 5 7]]\n",
            "[[0 1 2]\n",
            " [1 2 3]\n",
            " [6 5 7]]\n",
            "[[0 1 2]\n",
            " [1 2 3]\n",
            " [2 5 7]]\n",
            "[[0 1 2]\n",
            " [1 2 3]\n",
            " [2 3 7]]\n",
            "[[0 1 2]\n",
            " [1 2 3]\n",
            " [2 3 4]]\n"
          ]
        }
      ],
      "source": [
        "a = np.arange(3).reshape(3,1)\n",
        "b = np.arange(3).reshape(1,3)\n",
        "it = np.nditer([a,b,None])\n",
        "for x,y,z in it:\n",
        "  z[...] = x + y\n",
        "  print(it.operands[2])"
      ]
    },
    {
      "cell_type": "markdown",
      "metadata": {
        "id": "4e7Bliw_M5Gz"
      },
      "source": [
        "#### 63. Create an array class that has a name attribute (★★☆) \n",
        "(**hint**: class method)"
      ]
    },
    {
      "cell_type": "code",
      "execution_count": null,
      "metadata": {
        "id": "3ZveFXyHM5Gz"
      },
      "outputs": [],
      "source": [
        "#"
      ]
    },
    {
      "cell_type": "markdown",
      "metadata": {
        "id": "gtAKv_J9M5Gz"
      },
      "source": [
        "#### 64. Consider a given vector, how to add 1 to each element indexed by a second vector (be careful with repeated indices)? (★★★) \n",
        "(**hint**: np.bincount | np.add.at)"
      ]
    },
    {
      "cell_type": "code",
      "execution_count": null,
      "metadata": {
        "id": "-INmOUBlM5G0"
      },
      "outputs": [],
      "source": [
        "#"
      ]
    },
    {
      "cell_type": "markdown",
      "metadata": {
        "id": "TFadqGVtM5G0"
      },
      "source": [
        "#### 65. How to accumulate elements of a vector (X) to an array (F) based on an index list (I)? (★★★) \n",
        "(**hint**: np.bincount)"
      ]
    },
    {
      "cell_type": "code",
      "execution_count": 112,
      "metadata": {
        "id": "Yh8a2Et6M5G0",
        "colab": {
          "base_uri": "https://localhost:8080/"
        },
        "outputId": "9cf18397-eb49-44f3-9cd1-c00e6e2e4454"
      },
      "outputs": [
        {
          "output_type": "stream",
          "name": "stdout",
          "text": [
            "[0. 7. 0. 6. 5. 0. 0. 0. 0. 3.]\n"
          ]
        }
      ],
      "source": [
        "X = [1,2,3,4,5,6]\n",
        "I = [1,3,9,3,4,1]\n",
        "F = np.bincount(I,X)\n",
        "print(F)"
      ]
    },
    {
      "cell_type": "markdown",
      "metadata": {
        "id": "ncLAlTCrM5G0"
      },
      "source": [
        "#### 66. Considering a (w,h,3) image of (dtype=ubyte), compute the number of unique colors (★★★) \n",
        "(**hint**: np.unique)"
      ]
    },
    {
      "cell_type": "code",
      "execution_count": 3,
      "metadata": {
        "id": "QvRbUK8SM5G1",
        "colab": {
          "base_uri": "https://localhost:8080/"
        },
        "outputId": "2ab85586-fed2-4f50-f411-f8bcbd76cbc8"
      },
      "outputs": [
        {
          "output_type": "stream",
          "name": "stdout",
          "text": [
            "64\n"
          ]
        }
      ],
      "source": [
        "a,b = 256,256\n",
        "res = np.random.randint(0, 4, (a,b,3)).astype(np.ubyte)\n",
        "unique_colors = len(np.unique(res.reshape(-1, 3), axis=0))\n",
        "print(unique_colors)"
      ]
    },
    {
      "cell_type": "markdown",
      "metadata": {
        "id": "y6mUAOnxM5G1"
      },
      "source": [
        "#### 67. Considering a four dimensions array, how to get sum over the last two axis at once? (★★★) \n",
        "(**hint**: sum(axis=(-2,-1)))"
      ]
    },
    {
      "cell_type": "code",
      "execution_count": 5,
      "metadata": {
        "id": "OB2bWutRM5G1",
        "colab": {
          "base_uri": "https://localhost:8080/"
        },
        "outputId": "be9dec06-a3ed-4205-bf63-a0ba955b1ffb"
      },
      "outputs": [
        {
          "output_type": "stream",
          "name": "stdout",
          "text": [
            "[[[[3 4 5 4]\n",
            "   [0 8 2 8]\n",
            "   [7 2 9 1]]\n",
            "\n",
            "  [[2 5 8 3]\n",
            "   [0 7 7 4]\n",
            "   [3 9 6 4]]\n",
            "\n",
            "  [[2 6 1 9]\n",
            "   [2 3 4 7]\n",
            "   [2 1 8 8]]\n",
            "\n",
            "  [[6 7 6 1]\n",
            "   [3 4 7 8]\n",
            "   [0 7 8 2]]]\n",
            "\n",
            "\n",
            " [[[4 5 6 7]\n",
            "   [6 4 7 7]\n",
            "   [3 8 8 6]]\n",
            "\n",
            "  [[9 6 3 7]\n",
            "   [4 4 9 0]\n",
            "   [7 5 9 8]]\n",
            "\n",
            "  [[4 8 5 0]\n",
            "   [6 6 5 2]\n",
            "   [5 5 0 2]]\n",
            "\n",
            "  [[9 7 1 9]\n",
            "   [1 6 3 3]\n",
            "   [5 9 6 5]]]\n",
            "\n",
            "\n",
            " [[[1 5 5 8]\n",
            "   [2 4 8 8]\n",
            "   [6 4 4 0]]\n",
            "\n",
            "  [[7 4 9 1]\n",
            "   [0 2 9 1]\n",
            "   [9 6 3 3]]\n",
            "\n",
            "  [[7 6 6 2]\n",
            "   [2 1 4 0]\n",
            "   [0 3 4 2]]\n",
            "\n",
            "  [[4 9 0 6]\n",
            "   [7 6 4 5]\n",
            "   [0 5 1 6]]]]\n"
          ]
        }
      ],
      "source": [
        "a = np.random.randint(0,10,(3,4,3,4))\n",
        "print(a)\n",
        "sum = a.sum(axis=(-2,-1))\n",
        "#print(sum)"
      ]
    },
    {
      "cell_type": "markdown",
      "metadata": {
        "id": "SEilrk2hM5G2"
      },
      "source": [
        "#### 68. Considering a one-dimensional vector D, how to compute means of subsets of D using a vector S of same size describing subset  indices? (★★★) \n",
        "(**hint**: np.bincount)"
      ]
    },
    {
      "cell_type": "code",
      "execution_count": null,
      "metadata": {
        "id": "8BUlESI4M5G2"
      },
      "outputs": [],
      "source": [
        "#"
      ]
    },
    {
      "cell_type": "markdown",
      "metadata": {
        "id": "VJCj0pCPM5G2"
      },
      "source": [
        "#### 69. How to get the diagonal of a dot product? (★★★) \n",
        "(**hint**: np.diag)"
      ]
    },
    {
      "cell_type": "code",
      "execution_count": 6,
      "metadata": {
        "id": "i8qKyF-oM5G3",
        "colab": {
          "base_uri": "https://localhost:8080/"
        },
        "outputId": "625249eb-2932-48cf-88f4-b6a29bcaa397"
      },
      "outputs": [
        {
          "output_type": "execute_result",
          "data": {
            "text/plain": [
              "array([37.67878801, 57.07265522, 59.67392697, 46.03184702, 52.16581694])"
            ]
          },
          "metadata": {},
          "execution_count": 6
        }
      ],
      "source": [
        "a1 = np.random.uniform(0,8,(5,5))\n",
        "b1 = np.random.uniform(0,8,(5,5))\n",
        "\n",
        "np.diag(np.dot(a1, b1))\n"
      ]
    },
    {
      "cell_type": "markdown",
      "metadata": {
        "id": "jUkZDFTTM5G3"
      },
      "source": [
        "#### 70. Consider the vector \\[1, 2, 3, 4, 5\\], how to build a new vector with 3 consecutive zeros interleaved between each value? (★★★) \n",
        "(**hint**: array\\[::4\\])"
      ]
    },
    {
      "cell_type": "code",
      "execution_count": 12,
      "metadata": {
        "id": "aeU-7QdxM5G3",
        "colab": {
          "base_uri": "https://localhost:8080/"
        },
        "outputId": "2a397640-bb18-49a9-c1b1-8ab81898784c"
      },
      "outputs": [
        {
          "output_type": "stream",
          "name": "stdout",
          "text": [
            "[1. 0. 0. 0. 2. 0. 0. 0. 3. 0. 0. 0. 4. 0. 0. 0. 5.]\n"
          ]
        }
      ],
      "source": [
        "a = np.array([1,2,3,4,5])\n",
        "azeros = 3\n",
        "res = np.zeros(len(a) + (len(a)-1)*(azeros))\n",
        "res[::azeros+1] = a\n",
        "print(res)"
      ]
    },
    {
      "cell_type": "markdown",
      "metadata": {
        "id": "OIIpZNE6M5G3"
      },
      "source": [
        "#### 71. Consider an array of dimension (5,5,3), how to mulitply it by an array with dimensions (5,5)? (★★★) \n",
        "(**hint**: array\\[:, :, None\\])"
      ]
    },
    {
      "cell_type": "code",
      "execution_count": 15,
      "metadata": {
        "collapsed": true,
        "id": "5a1vf5SyM5G4",
        "colab": {
          "base_uri": "https://localhost:8080/"
        },
        "outputId": "9a68fba4-b43b-4361-b2b1-c2c7fada4afe"
      },
      "outputs": [
        {
          "output_type": "stream",
          "name": "stdout",
          "text": [
            "[[[6. 6. 6.]\n",
            "  [6. 6. 6.]\n",
            "  [6. 6. 6.]\n",
            "  [6. 6. 6.]\n",
            "  [6. 6. 6.]]\n",
            "\n",
            " [[6. 6. 6.]\n",
            "  [6. 6. 6.]\n",
            "  [6. 6. 6.]\n",
            "  [6. 6. 6.]\n",
            "  [6. 6. 6.]]\n",
            "\n",
            " [[6. 6. 6.]\n",
            "  [6. 6. 6.]\n",
            "  [6. 6. 6.]\n",
            "  [6. 6. 6.]\n",
            "  [6. 6. 6.]]\n",
            "\n",
            " [[6. 6. 6.]\n",
            "  [6. 6. 6.]\n",
            "  [6. 6. 6.]\n",
            "  [6. 6. 6.]\n",
            "  [6. 6. 6.]]\n",
            "\n",
            " [[6. 6. 6.]\n",
            "  [6. 6. 6.]\n",
            "  [6. 6. 6.]\n",
            "  [6. 6. 6.]\n",
            "  [6. 6. 6.]]]\n"
          ]
        }
      ],
      "source": [
        "a1 = 3*np.ones((5,5,3))\n",
        "a2 = 2*np.ones((5,5))\n",
        "print(a1 * a2[:,:,None])"
      ]
    },
    {
      "cell_type": "markdown",
      "metadata": {
        "id": "fyNWn3DtM5G4"
      },
      "source": [
        "#### 72. How to swap two rows of an array? (★★★) \n",
        "(**hint**: array\\[\\[\\]\\] = array\\[\\[\\]\\])"
      ]
    },
    {
      "cell_type": "code",
      "execution_count": 20,
      "metadata": {
        "id": "yK2QyNpeM5G4",
        "colab": {
          "base_uri": "https://localhost:8080/"
        },
        "outputId": "9f9b26d7-5a99-48fc-fced-5626067bb4db"
      },
      "outputs": [
        {
          "output_type": "stream",
          "name": "stdout",
          "text": [
            "[[ 0  1  2  3  4]\n",
            " [ 5  6  7  8  9]\n",
            " [10 11 12 13 14]\n",
            " [15 16 17 18 19]\n",
            " [20 21 22 23 24]]\n",
            "[[10 11 12 13 14]\n",
            " [ 5  6  7  8  9]\n",
            " [ 0  1  2  3  4]\n",
            " [15 16 17 18 19]\n",
            " [20 21 22 23 24]]\n"
          ]
        }
      ],
      "source": [
        "a = np.arange(25).reshape(5,5)\n",
        "print(a)\n",
        "a[[0,2]] = a[[2,0]]\n",
        "print(a)"
      ]
    },
    {
      "cell_type": "markdown",
      "metadata": {
        "id": "IxD3TytVM5G4"
      },
      "source": [
        "#### 73. Consider a set of 10 triplets describing 10 triangles (with shared vertices), find the set of unique line segments composing all the  triangles (★★★) \n",
        "(**hint**: repeat, np.roll, np.sort, view, np.unique)"
      ]
    },
    {
      "cell_type": "code",
      "execution_count": 35,
      "metadata": {
        "id": "PzMLRw8GM5G5",
        "colab": {
          "base_uri": "https://localhost:8080/"
        },
        "outputId": "e46c6f2c-7e67-45ae-ae88-bc3a135e01bf"
      },
      "outputs": [
        {
          "output_type": "stream",
          "name": "stdout",
          "text": [
            "[[31 76 77]\n",
            " [21  8 63]\n",
            " [38 14 30]\n",
            " [95 13 41]\n",
            " [79 93  6]\n",
            " [93  2  7]\n",
            " [41 89 18]\n",
            " [35 62 26]\n",
            " [24 10 73]\n",
            " [13 30 61]]\n",
            "[[(31, 76)]\n",
            " [(76, 77)]\n",
            " [(31, 77)]\n",
            " [( 8, 21)]\n",
            " [( 8, 63)]\n",
            " [(21, 63)]\n",
            " [(14, 38)]\n",
            " [(14, 30)]\n",
            " [(30, 38)]\n",
            " [(13, 95)]\n",
            " [(13, 41)]\n",
            " [(41, 95)]\n",
            " [(79, 93)]\n",
            " [( 6, 93)]\n",
            " [( 6, 79)]\n",
            " [( 2, 93)]\n",
            " [( 2,  7)]\n",
            " [( 7, 93)]\n",
            " [(41, 89)]\n",
            " [(18, 89)]\n",
            " [(18, 41)]\n",
            " [(35, 62)]\n",
            " [(26, 62)]\n",
            " [(26, 35)]\n",
            " [(10, 24)]\n",
            " [(10, 73)]\n",
            " [(24, 73)]\n",
            " [(13, 30)]\n",
            " [(30, 61)]\n",
            " [(13, 61)]]\n"
          ]
        }
      ],
      "source": [
        "faces = np.random.randint(0,100,(10,3))\n",
        "print(faces)\n",
        "a = np.roll(faces.repeat(2,axis=1),-1,axis=1)\n",
        "a = a.reshape(len(a)*3,2)\n",
        "a = np.sort(a,axis=1)\n",
        "res = a.view( dtype=[('pnt0',a.dtype),('pnt1',a.dtype)] )\n",
        "#res = np.unique(res)\n",
        "print(res)"
      ]
    },
    {
      "cell_type": "markdown",
      "metadata": {
        "id": "Zx-Or9PKM5G5"
      },
      "source": [
        "#### 74. Given an array C that is a bincount, how to produce an array A such that np.bincount(A) == C? (★★★) \n",
        "(**hint**: np.repeat)"
      ]
    },
    {
      "cell_type": "code",
      "execution_count": 36,
      "metadata": {
        "id": "BiH6ogf9M5G6",
        "colab": {
          "base_uri": "https://localhost:8080/"
        },
        "outputId": "d3d77b9d-9ebb-4349-ff21-743a5bc84d36"
      },
      "outputs": [
        {
          "output_type": "stream",
          "name": "stdout",
          "text": [
            "[1 1 2 3 4 4 6]\n"
          ]
        }
      ],
      "source": [
        "C = np.bincount([1,1,2,3,4,4,6])\n",
        "A = np.repeat(np.arange(len(C)), C)\n",
        "print(A)"
      ]
    },
    {
      "cell_type": "markdown",
      "metadata": {
        "id": "bxXKsy2tM5G6"
      },
      "source": [
        "#### 75. How to compute averages using a sliding window over an array? (★★★) \n",
        "(**hint**: np.cumsum)"
      ]
    },
    {
      "cell_type": "code",
      "execution_count": null,
      "metadata": {
        "id": "p5hHrC0kM5G7"
      },
      "outputs": [],
      "source": [
        "#"
      ]
    },
    {
      "cell_type": "markdown",
      "metadata": {
        "id": "z3WL_ip_M5G7"
      },
      "source": [
        "#### 76. Consider a one-dimensional array Z, build a two-dimensional array whose first row is (Z\\[0\\],Z\\[1\\],Z\\[2\\]) and each subsequent row is  shifted by 1 (last row should be (Z\\[-3\\],Z\\[-2\\],Z\\[-1\\]) (★★★) \n",
        "(**hint**: from numpy.lib import stride_tricks)"
      ]
    },
    {
      "cell_type": "code",
      "execution_count": null,
      "metadata": {
        "id": "oabktBvjM5G8"
      },
      "outputs": [],
      "source": [
        ""
      ]
    },
    {
      "cell_type": "markdown",
      "metadata": {
        "id": "xtFAmvrjM5G8"
      },
      "source": [
        "#### 77. How to negate a boolean, or to change the sign of a float inplace? (★★★) \n",
        "(**hint**: np.logical_not, np.negative)"
      ]
    },
    {
      "cell_type": "code",
      "execution_count": 45,
      "metadata": {
        "id": "xy0wHRkLM5G8",
        "colab": {
          "base_uri": "https://localhost:8080/"
        },
        "outputId": "88076fb9-19c1-4195-f5c1-da6688f87e36"
      },
      "outputs": [
        {
          "output_type": "stream",
          "name": "stdout",
          "text": [
            "[0 1 0 0 1 1 0 1 0 0 1 0 0 0 0 0 1 0 1 1 1 1 1 0 0 1 1 0 0 1 0 0 0 0 1 1 1\n",
            " 1 1 0 1 1 0 1 0 0 0 1 0 0 1 1 0 0 0 0 1 0 0 0 0 1 1 1 0 1 1 1 0 0 0 0 1 1\n",
            " 0 1 1 1 1 1 0 1 1 0 1 1 1 0 0 1 1 1 1 1 1 1 0 1 0 0]\n",
            "[1 0 1 1 0 0 1 0 1 1 0 1 1 1 1 1 0 1 0 0 0 0 0 1 1 0 0 1 1 0 1 1 1 1 0 0 0\n",
            " 0 0 1 0 0 1 0 1 1 1 0 1 1 0 0 1 1 1 1 0 1 1 1 1 0 0 0 1 0 0 0 1 1 1 1 0 0\n",
            " 1 0 0 0 0 0 1 0 0 1 0 0 0 1 1 0 0 0 0 0 0 0 1 0 1 1]\n",
            "[-0.95978403 -0.04747733  0.72514731  0.77667539 -0.76056857  0.46377035\n",
            " -0.07772934 -0.12887248 -0.16510342  0.47863686 -0.87171628  0.3972747\n",
            "  0.89628626  0.28107586 -0.11795326 -0.90838236  0.25941497 -0.31595959\n",
            " -0.44001136  0.26750316  0.81838751 -0.66881334  0.66778666 -0.68210255\n",
            " -0.05603047  0.21983945 -0.16129432 -0.23157288  0.99062    -0.78002677\n",
            "  0.83804928  0.82034937  0.59068088  0.27113487 -0.12553069  0.22832806\n",
            "  0.3555983   0.66753261  0.71314846  0.26410313 -0.38601487 -0.90667427\n",
            " -0.30089304 -0.70524244 -0.38701838 -0.7854237  -0.42272246  0.64066135\n",
            "  0.12504516 -0.68541579  0.70606316 -0.50415471  0.32087188  0.7670383\n",
            " -0.65113299 -0.46037948 -0.68101369 -0.14417261  0.37680247  0.36461796\n",
            " -0.16600663  0.14690653  0.26294579 -0.48342174 -0.55354199 -0.00422839\n",
            "  0.84295086 -0.12687454 -0.44005937 -0.50828198 -0.72769173  0.38441031\n",
            " -0.75751853  0.37801831 -0.04077764  0.86232224  0.41028313 -0.85295938\n",
            " -0.81391831 -0.63283731 -0.11368215 -0.56579699 -0.44315749  0.34739179\n",
            " -0.98845446 -0.97539376 -0.54510204 -0.82135936  0.60781631  0.84199537\n",
            " -0.70074432  0.80590685 -0.01400821 -0.01660102  0.56760362  0.59811621\n",
            " -0.38298828  0.02120038  0.93048928 -0.03796442]\n",
            "[ 0.95978403  0.04747733 -0.72514731 -0.77667539  0.76056857 -0.46377035\n",
            "  0.07772934  0.12887248  0.16510342 -0.47863686  0.87171628 -0.3972747\n",
            " -0.89628626 -0.28107586  0.11795326  0.90838236 -0.25941497  0.31595959\n",
            "  0.44001136 -0.26750316 -0.81838751  0.66881334 -0.66778666  0.68210255\n",
            "  0.05603047 -0.21983945  0.16129432  0.23157288 -0.99062     0.78002677\n",
            " -0.83804928 -0.82034937 -0.59068088 -0.27113487  0.12553069 -0.22832806\n",
            " -0.3555983  -0.66753261 -0.71314846 -0.26410313  0.38601487  0.90667427\n",
            "  0.30089304  0.70524244  0.38701838  0.7854237   0.42272246 -0.64066135\n",
            " -0.12504516  0.68541579 -0.70606316  0.50415471 -0.32087188 -0.7670383\n",
            "  0.65113299  0.46037948  0.68101369  0.14417261 -0.37680247 -0.36461796\n",
            "  0.16600663 -0.14690653 -0.26294579  0.48342174  0.55354199  0.00422839\n",
            " -0.84295086  0.12687454  0.44005937  0.50828198  0.72769173 -0.38441031\n",
            "  0.75751853 -0.37801831  0.04077764 -0.86232224 -0.41028313  0.85295938\n",
            "  0.81391831  0.63283731  0.11368215  0.56579699  0.44315749 -0.34739179\n",
            "  0.98845446  0.97539376  0.54510204  0.82135936 -0.60781631 -0.84199537\n",
            "  0.70074432 -0.80590685  0.01400821  0.01660102 -0.56760362 -0.59811621\n",
            "  0.38298828 -0.02120038 -0.93048928  0.03796442]\n"
          ]
        }
      ],
      "source": [
        "a = np.random.randint(0,2,100)\n",
        "print(a)\n",
        "res_1 = np.logical_not(a, out=a)\n",
        "print(res_1)\n",
        "#_______________________________________________\n",
        "a = np.random.uniform(-1.0,1.0,100)\n",
        "print(a)\n",
        "print(np.negative(a, out=a))\n"
      ]
    },
    {
      "cell_type": "markdown",
      "metadata": {
        "id": "s6e6j_9VM5G9"
      },
      "source": [
        "#### 78. Consider 2 sets of points P0,P1 describing lines (2d) and a point p, how to compute distance from p to each line i  (P0\\[i\\],P1\\[i\\])? (★★★)"
      ]
    },
    {
      "cell_type": "code",
      "execution_count": null,
      "metadata": {
        "id": "sBAcNqruM5G9"
      },
      "outputs": [],
      "source": [
        "#"
      ]
    },
    {
      "cell_type": "markdown",
      "metadata": {
        "id": "euFSxrLQM5G-"
      },
      "source": [
        "#### 79. Consider 2 sets of points P0,P1 describing lines (2d) and a set of points P, how to compute distance from each point j (P\\[j\\]) to each line i (P0\\[i\\],P1\\[i\\])? (★★★)"
      ]
    },
    {
      "cell_type": "code",
      "execution_count": null,
      "metadata": {
        "id": "hQl-ekeDM5G-"
      },
      "outputs": [],
      "source": [
        "#"
      ]
    },
    {
      "cell_type": "markdown",
      "metadata": {
        "id": "BSNq-WRdM5G_"
      },
      "source": [
        "#### 80. Consider an arbitrary array, write a function that extract a subpart with a fixed shape and centered on a given element (pad with a `fill` value when necessary) (★★★) \n",
        "(**hint**: minimum, maximum)"
      ]
    },
    {
      "cell_type": "code",
      "execution_count": null,
      "metadata": {
        "id": "ItGsh76mM5G_"
      },
      "outputs": [],
      "source": [
        "#"
      ]
    },
    {
      "cell_type": "markdown",
      "metadata": {
        "id": "U8Rc77fBM5G_"
      },
      "source": [
        "#### 81. Consider an array Z = \\[1,2,3,4,5,6,7,8,9,10,11,12,13,14\\], how to generate an array R = \\[\\[1,2,3,4\\], \\[2,3,4,5\\], \\[3,4,5,6\\], ..., \\[11,12,13,14\\]\\]? (★★★) \n",
        "(**hint**: stride\\_tricks.as\\_strided)"
      ]
    },
    {
      "cell_type": "code",
      "execution_count": 52,
      "metadata": {
        "id": "FWFGnUqoM5HA",
        "colab": {
          "base_uri": "https://localhost:8080/"
        },
        "outputId": "8cbeebed-73fb-4c5f-f1cf-c85aebc0ee6f"
      },
      "outputs": [
        {
          "output_type": "stream",
          "name": "stdout",
          "text": [
            "[[ 1  2  3  4]\n",
            " [ 2  3  4  5]\n",
            " [ 3  4  5  6]\n",
            " [ 4  5  6  7]\n",
            " [ 5  6  7  8]\n",
            " [ 6  7  8  9]\n",
            " [ 7  8  9 10]\n",
            " [ 8  9 10 11]\n",
            " [ 9 10 11 12]\n",
            " [10 11 12 13]\n",
            " [11 12 13 14]]\n"
          ]
        }
      ],
      "source": [
        "Z = np.arange(1,15,dtype=np.uint32)\n",
        "R = np.lib.stride_tricks.as_strided(Z,(11,4),(4,4))\n",
        "print(R)"
      ]
    },
    {
      "cell_type": "markdown",
      "metadata": {
        "id": "eecK0IYqM5HA"
      },
      "source": [
        "#### 82. Compute a matrix rank (★★★) \n",
        "(**hint**: np.linalg.svd) (suggestion: np.linalg.svd)"
      ]
    },
    {
      "cell_type": "code",
      "execution_count": null,
      "metadata": {
        "id": "dYibVhiaM5HB"
      },
      "outputs": [],
      "source": [
        "#"
      ]
    },
    {
      "cell_type": "markdown",
      "metadata": {
        "id": "Z8nQ0OdwM5HB"
      },
      "source": [
        "#### 83. How to find the most frequent value in an array? \n",
        "(**hint**: np.bincount, argmax)"
      ]
    },
    {
      "cell_type": "code",
      "execution_count": null,
      "metadata": {
        "id": "8LUiGLDEM5HC"
      },
      "outputs": [],
      "source": [
        "#"
      ]
    },
    {
      "cell_type": "markdown",
      "metadata": {
        "id": "wYGfuRUGM5HC"
      },
      "source": [
        "#### 84. Extract all the contiguous 3x3 blocks from a random 10x10 matrix (★★★) \n",
        "(**hint**: stride\\_tricks.as\\_strided)"
      ]
    },
    {
      "cell_type": "code",
      "execution_count": null,
      "metadata": {
        "id": "-OF_hl9gM5HC"
      },
      "outputs": [],
      "source": [
        "#"
      ]
    },
    {
      "cell_type": "markdown",
      "metadata": {
        "id": "jib8MOkDM5HD"
      },
      "source": [
        "#### 85. Create a 2D array subclass such that Z\\[i,j\\] == Z\\[j,i\\] (★★★) \n",
        "(**hint**: class method)"
      ]
    },
    {
      "cell_type": "code",
      "execution_count": null,
      "metadata": {
        "id": "lqh5HLMYM5HD"
      },
      "outputs": [],
      "source": [
        "#"
      ]
    },
    {
      "cell_type": "markdown",
      "metadata": {
        "id": "375AmV_uM5HD"
      },
      "source": [
        "#### 86. Consider a set of p matrices wich shape (n,n) and a set of p vectors with shape (n,1). How to compute the sum of of the p matrix products at once? (result has shape (n,1)) (★★★) \n",
        "(**hint**: np.tensordot)"
      ]
    },
    {
      "cell_type": "code",
      "execution_count": null,
      "metadata": {
        "id": "y6U_NK_5M5HE"
      },
      "outputs": [],
      "source": [
        "#"
      ]
    },
    {
      "cell_type": "markdown",
      "metadata": {
        "id": "Bn_UnNbjM5HE"
      },
      "source": [
        "#### 87. Consider a 16x16 array, how to get the block-sum (block size is 4x4)? (★★★) \n",
        "(**hint**: np.add.reduceat)"
      ]
    },
    {
      "cell_type": "code",
      "execution_count": null,
      "metadata": {
        "id": "lz47sT8PM5HF"
      },
      "outputs": [],
      "source": [
        "#"
      ]
    },
    {
      "cell_type": "markdown",
      "metadata": {
        "id": "rjRmbFs3M5HF"
      },
      "source": [
        "#### 88. How to implement the Game of Life using numpy arrays? (★★★)"
      ]
    },
    {
      "cell_type": "code",
      "execution_count": null,
      "metadata": {
        "id": "-ygW8-B5M5HF"
      },
      "outputs": [],
      "source": [
        "#"
      ]
    },
    {
      "cell_type": "markdown",
      "metadata": {
        "id": "g_-TNAl4M5HG"
      },
      "source": [
        "#### 89. How to get the n largest values of an array (★★★) \n",
        "(**hint**: np.argsort | np.argpartition)"
      ]
    },
    {
      "cell_type": "code",
      "execution_count": null,
      "metadata": {
        "id": "KVKGsftAM5HG"
      },
      "outputs": [],
      "source": [
        "#"
      ]
    },
    {
      "cell_type": "markdown",
      "metadata": {
        "id": "FMGDkC2jM5HH"
      },
      "source": [
        "#### 90. Given an arbitrary number of vectors, build the cartesian product (every combinations of every item) (★★★) \n",
        "(**hint**: np.indices)"
      ]
    },
    {
      "cell_type": "code",
      "execution_count": null,
      "metadata": {
        "scrolled": true,
        "id": "u_Q8tM_kM5HH"
      },
      "outputs": [],
      "source": [
        "#"
      ]
    },
    {
      "cell_type": "markdown",
      "metadata": {
        "id": "M_1gXp6DM5HH"
      },
      "source": [
        "#### 91. How to create a record array from a regular array? (★★★) \n",
        "(**hint**: np.core.records.fromarrays)"
      ]
    },
    {
      "cell_type": "code",
      "execution_count": null,
      "metadata": {
        "id": "5EPh2TgJM5HH"
      },
      "outputs": [],
      "source": [
        "#"
      ]
    },
    {
      "cell_type": "markdown",
      "metadata": {
        "id": "4r1DPS9GM5HI"
      },
      "source": [
        "#### 92. Consider a large vector Z, compute Z to the power of 3 using 3 different methods (★★★) \n",
        "(**hint**: np.power, \\*, np.einsum)"
      ]
    },
    {
      "cell_type": "code",
      "execution_count": null,
      "metadata": {
        "id": "qf877dq4M5HI"
      },
      "outputs": [],
      "source": [
        "#"
      ]
    },
    {
      "cell_type": "markdown",
      "metadata": {
        "id": "SVL2fsiyM5HI"
      },
      "source": [
        "#### 93. Consider two arrays A and B of shape (8,3) and (2,2). How to find rows of A that contain elements of each row of B regardless of the order of the elements in B? (★★★) \n",
        "(**hint**: np.where)"
      ]
    },
    {
      "cell_type": "code",
      "execution_count": null,
      "metadata": {
        "id": "yMifaxrtM5HI"
      },
      "outputs": [],
      "source": [
        "#"
      ]
    },
    {
      "cell_type": "markdown",
      "metadata": {
        "id": "SbAt5OSKM5HI"
      },
      "source": [
        "#### 94. Considering a 10x3 matrix, extract rows with unequal values (e.g. \\[2,2,3\\]) (★★★)"
      ]
    },
    {
      "cell_type": "code",
      "execution_count": null,
      "metadata": {
        "id": "alpuZ0GzM5HJ"
      },
      "outputs": [],
      "source": [
        "#"
      ]
    },
    {
      "cell_type": "markdown",
      "metadata": {
        "id": "A9Jne-QyM5HJ"
      },
      "source": [
        "#### 95. Convert a vector of ints into a matrix binary representation (★★★) \n",
        "(**hint**: np.unpackbits)"
      ]
    },
    {
      "cell_type": "code",
      "execution_count": null,
      "metadata": {
        "id": "beMydNh3M5HK"
      },
      "outputs": [],
      "source": [
        "#"
      ]
    },
    {
      "cell_type": "markdown",
      "metadata": {
        "id": "M8CUwAV3M5HK"
      },
      "source": [
        "#### 96. Given a two dimensional array, how to extract unique rows? (★★★) \n",
        "(**hint**: np.ascontiguousarray)"
      ]
    },
    {
      "cell_type": "code",
      "execution_count": null,
      "metadata": {
        "id": "XJ8f9X0nM5HK"
      },
      "outputs": [],
      "source": [
        "#"
      ]
    },
    {
      "cell_type": "markdown",
      "metadata": {
        "id": "mhx1GMXuM5HK"
      },
      "source": [
        "#### 97. Considering 2 vectors A & B, write the einsum equivalent of inner, outer, sum, and mul function (★★★) \n",
        "(**hint**: np.einsum)"
      ]
    },
    {
      "cell_type": "code",
      "execution_count": null,
      "metadata": {
        "id": "78nSkI4PM5HK"
      },
      "outputs": [],
      "source": [
        "#"
      ]
    },
    {
      "cell_type": "markdown",
      "metadata": {
        "id": "8w3kHR2jM5HK"
      },
      "source": [
        "#### 98. Considering a path described by two vectors (X,Y), how to sample it using equidistant samples (★★★)? \n",
        "(**hint**: np.cumsum, np.interp)"
      ]
    },
    {
      "cell_type": "code",
      "execution_count": null,
      "metadata": {
        "collapsed": true,
        "id": "2OcuOxo0M5HL"
      },
      "outputs": [],
      "source": [
        "#"
      ]
    },
    {
      "cell_type": "markdown",
      "metadata": {
        "id": "-F8sFuRKM5HL"
      },
      "source": [
        "#### 99. Given an integer n and a 2D array X, select from X the rows which can be interpreted as draws from a multinomial distribution with n degrees, i.e., the rows which only contain integers and which sum to n. (★★★) \n",
        "(**hint**: np.logical\\_and.reduce, np.mod)"
      ]
    },
    {
      "cell_type": "code",
      "execution_count": null,
      "metadata": {
        "id": "MZgCIyTLM5HL"
      },
      "outputs": [],
      "source": [
        "#"
      ]
    },
    {
      "cell_type": "markdown",
      "metadata": {
        "id": "nwB1C_weM5HL"
      },
      "source": [
        "#### 100. Compute bootstrapped 95% confidence intervals for the mean of a 1D array X (i.e., resample the elements of an array with replacement N times, compute the mean of each sample, and then compute percentiles over the means). (★★★) \n",
        "(**hint**: np.percentile)"
      ]
    },
    {
      "cell_type": "code",
      "execution_count": null,
      "metadata": {
        "id": "8Ehfm6arM5HL"
      },
      "outputs": [],
      "source": [
        "#"
      ]
    }
  ],
  "metadata": {
    "kernelspec": {
      "display_name": "Python 3",
      "language": "python",
      "name": "python3"
    },
    "language_info": {
      "codemirror_mode": {
        "name": "ipython",
        "version": 3
      },
      "file_extension": ".py",
      "mimetype": "text/x-python",
      "name": "python",
      "nbconvert_exporter": "python",
      "pygments_lexer": "ipython3",
      "version": "3.8.3"
    },
    "colab": {
      "name": "Numpy_tasks.ipynb",
      "provenance": [],
      "collapsed_sections": [
        "RcTVRdqbM5Gl",
        "AfNu78wwM5Gm",
        "l0EDgOcAM5Gm",
        "m9ZVf6-VM5Gn",
        "4bLADUtlM5Gn",
        "uxOmayJcM5Go",
        "tEObY8pNM5Go",
        "ifSuvhhPM5Gp",
        "khALuiOpM5Gp",
        "xKErUT5uM5Gq",
        "qSB2ydaUM5Gq",
        "hO_Zxsf5M5Gr",
        "TGr9GwUAM5Gr",
        "OebXSlQTM5Gs",
        "js-e13bTM5Gs",
        "xw69UvgiM5Gs",
        "hTh9hiWZM5Gt",
        "27CqBB1FM5Gt",
        "Bq1fIor1M5Gu",
        "cFc0n_TVM5Gu",
        "a8eN5Lp-M5Gv",
        "-hn5ezNSM5Gv",
        "PxItsA2-M5Gw",
        "iioZi6ZAM5Gw",
        "HFTq-AM3M5Gx",
        "cp9QvbysM5Gx",
        "cQNnVxMoM5Gx",
        "_nKVvOB3M5Gy",
        "AlUEHBdgM5Gy",
        "rj3xGOYuM5Gz",
        "4e7Bliw_M5Gz",
        "gtAKv_J9M5Gz",
        "TFadqGVtM5G0",
        "ncLAlTCrM5G0",
        "y6mUAOnxM5G1",
        "SEilrk2hM5G2",
        "VJCj0pCPM5G2",
        "jUkZDFTTM5G3",
        "OIIpZNE6M5G3",
        "fyNWn3DtM5G4",
        "IxD3TytVM5G4",
        "Zx-Or9PKM5G5",
        "bxXKsy2tM5G6",
        "z3WL_ip_M5G7",
        "xtFAmvrjM5G8",
        "s6e6j_9VM5G9",
        "euFSxrLQM5G-",
        "BSNq-WRdM5G_",
        "U8Rc77fBM5G_",
        "eecK0IYqM5HA",
        "Z8nQ0OdwM5HB",
        "wYGfuRUGM5HC",
        "jib8MOkDM5HD",
        "375AmV_uM5HD",
        "Bn_UnNbjM5HE",
        "rjRmbFs3M5HF",
        "g_-TNAl4M5HG",
        "FMGDkC2jM5HH",
        "M_1gXp6DM5HH",
        "4r1DPS9GM5HI",
        "SVL2fsiyM5HI",
        "SbAt5OSKM5HI",
        "A9Jne-QyM5HJ",
        "M8CUwAV3M5HK",
        "mhx1GMXuM5HK",
        "8w3kHR2jM5HK",
        "-F8sFuRKM5HL",
        "nwB1C_weM5HL"
      ],
      "include_colab_link": true
    }
  },
  "nbformat": 4,
  "nbformat_minor": 0
}